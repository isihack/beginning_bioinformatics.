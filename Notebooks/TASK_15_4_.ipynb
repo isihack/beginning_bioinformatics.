{
  "nbformat": 4,
  "nbformat_minor": 0,
  "metadata": {
    "colab": {
      "provenance": []
    },
    "kernelspec": {
      "name": "python3",
      "display_name": "Python 3"
    },
    "language_info": {
      "name": "python"
    }
  },
  "cells": [
    {
      "cell_type": "markdown",
      "source": [
        "# **<font color=blue>P13.</font>** File I/O – with open(\"filename\", \"mode\") as filehandle:\n"
      ],
      "metadata": {
        "id": "i4Fo-ddSKWwy"
      }
    },
    {
      "cell_type": "markdown",
      "source": [
        "####**TASK P13.1** Use the ```read()``` function to print the <font color = orange>practice dataset from Rosalind #4</font>\n"
      ],
      "metadata": {
        "id": "sgc3wiQmLXcI"
      }
    },
    {
      "cell_type": "code",
      "source": [
        "with open(\"rosalind_ini5_1157_3_dataset.txt\",\"r\") as data:\n",
        "\n",
        "    print(data.read())\n",
        "\n",
        "    #print(data.readline())\n",
        "\n",
        "    #print(data.readlines())"
      ],
      "metadata": {
        "id": "V5nzHsnULA_n",
        "colab": {
          "base_uri": "https://localhost:8080/"
        },
        "outputId": "747121c8-edcf-4a82-ad97-1df21295d9fd"
      },
      "execution_count": null,
      "outputs": [
        {
          "output_type": "stream",
          "name": "stdout",
          "text": [
            "`Twas brillig, and the slithy toves\n",
            "Some things in life are bad, they can really make you mad\n",
            "  Did gyre and gimble in the wabe:\n",
            "Other things just make you swear and curse\n",
            "All mimsy were the borogoves,\n",
            "When you're chewing on life's gristle, don't grumble give a whistle\n",
            "  And the mome raths outgrabe.\n",
            "This will help things turn out for the best\n",
            "\"Beware the Jabberwock, my son!\n",
            "Always look on the bright side of life\n",
            "  The jaws that bite, the claws that catch!\n",
            "Always look on the right side of life\n",
            "Beware the Jubjub bird, and shun\n",
            "If life seems jolly rotten, there's something you've forgotten\n",
            "  The frumious Bandersnatch!\"\n",
            "And that's to laugh and smile and dance and sing\n",
            "He took his vorpal sword in hand:\n",
            "When you're feeling in the dumps, don't be silly, chumps\n",
            "  Long time the manxome foe he sought --\n",
            "Just purse your lips and whistle, that's the thing\n",
            "So rested he by the Tumtum tree,\n",
            "So, always look on the bright side of death\n",
            "  And stood awhile in thought.\n",
            "Just before you draw your terminal breath\n",
            "And, as in uffish thought he stood,\n",
            "Life's a counterfeit and when you look at it\n",
            "  The Jabberwock, with eyes of flame,\n",
            "Life's a laugh and death's the joke, it's true\n",
            "Came whiffling through the tulgey wood,\n",
            "You see, it's all a show, keep them laughing as you go\n",
            "  And burbled as it came!\n",
            "Just remember the last laugh is on you\n",
            "One, two! One, two! And through and through\n",
            "Always look on the bright side of life\n",
            "  The vorpal blade went snicker-snack!\n",
            "And always look on the right side of life\n",
            "He left it dead, and with its head\n",
            "Always look on the bright side of life\n",
            "  He went galumphing back.\n",
            "And always look on the right side of life\n",
            "\n"
          ]
        }
      ]
    },
    {
      "cell_type": "markdown",
      "source": [
        "####**TASK P13.2** Explore file object functions to read and print practice.txt"
      ],
      "metadata": {
        "id": "GLO6tBYNVzYZ"
      }
    },
    {
      "cell_type": "code",
      "source": [
        "# : Explore file object functions to read and print practice.txt\n",
        "\n",
        "# Open the file in read mode\n",
        "with open(\"rosalind_ini5_1157_3_dataset.txt\", \"r\") as data:\n",
        "\n",
        "    # 1. Read the entire file as a single string\n",
        "    print(\"---- Using read() ----\")\n",
        "    data_content = data.read()\n",
        "    print(data_content)\n",
        "\n",
        "\n",
        "with open(\"rosalind_ini5_1157_3_dataset.txt\", \"r\") as data:\n",
        "\n",
        "    #  Read just the first line\n",
        "    print(\"\\n---- Using readline() ----\")\n",
        "    first_line = data.readline()\n",
        "    print(first_line)\n",
        "\n",
        "with open(\"rosalind_ini5_1157_3_dataset.txt\", \"r\") as data:\n",
        "\n",
        "    # Read all lines into a list\n",
        "    print(\"\\n---- Using readlines() ----\")\n",
        "    all_lines = data.readlines()\n",
        "    print(all_lines)\n"
      ],
      "metadata": {
        "colab": {
          "base_uri": "https://localhost:8080/"
        },
        "id": "6KjM552QXWrH",
        "outputId": "02ec12c6-9f4f-4b73-a4e4-9f8afe4973bb"
      },
      "execution_count": null,
      "outputs": [
        {
          "output_type": "stream",
          "name": "stdout",
          "text": [
            "---- Using read() ----\n",
            "`Twas brillig, and the slithy toves\n",
            "Some things in life are bad, they can really make you mad\n",
            "  Did gyre and gimble in the wabe:\n",
            "Other things just make you swear and curse\n",
            "All mimsy were the borogoves,\n",
            "When you're chewing on life's gristle, don't grumble give a whistle\n",
            "  And the mome raths outgrabe.\n",
            "This will help things turn out for the best\n",
            "\"Beware the Jabberwock, my son!\n",
            "Always look on the bright side of life\n",
            "  The jaws that bite, the claws that catch!\n",
            "Always look on the right side of life\n",
            "Beware the Jubjub bird, and shun\n",
            "If life seems jolly rotten, there's something you've forgotten\n",
            "  The frumious Bandersnatch!\"\n",
            "And that's to laugh and smile and dance and sing\n",
            "He took his vorpal sword in hand:\n",
            "When you're feeling in the dumps, don't be silly, chumps\n",
            "  Long time the manxome foe he sought --\n",
            "Just purse your lips and whistle, that's the thing\n",
            "So rested he by the Tumtum tree,\n",
            "So, always look on the bright side of death\n",
            "  And stood awhile in thought.\n",
            "Just before you draw your terminal breath\n",
            "And, as in uffish thought he stood,\n",
            "Life's a counterfeit and when you look at it\n",
            "  The Jabberwock, with eyes of flame,\n",
            "Life's a laugh and death's the joke, it's true\n",
            "Came whiffling through the tulgey wood,\n",
            "You see, it's all a show, keep them laughing as you go\n",
            "  And burbled as it came!\n",
            "Just remember the last laugh is on you\n",
            "One, two! One, two! And through and through\n",
            "Always look on the bright side of life\n",
            "  The vorpal blade went snicker-snack!\n",
            "And always look on the right side of life\n",
            "He left it dead, and with its head\n",
            "Always look on the bright side of life\n",
            "  He went galumphing back.\n",
            "And always look on the right side of life\n",
            "\n",
            "\n",
            "---- Using readline() ----\n",
            "`Twas brillig, and the slithy toves\n",
            "\n",
            "\n",
            "---- Using readlines() ----\n",
            "['`Twas brillig, and the slithy toves\\n', 'Some things in life are bad, they can really make you mad\\n', '  Did gyre and gimble in the wabe:\\n', 'Other things just make you swear and curse\\n', 'All mimsy were the borogoves,\\n', \"When you're chewing on life's gristle, don't grumble give a whistle\\n\", '  And the mome raths outgrabe.\\n', 'This will help things turn out for the best\\n', '\"Beware the Jabberwock, my son!\\n', 'Always look on the bright side of life\\n', '  The jaws that bite, the claws that catch!\\n', 'Always look on the right side of life\\n', 'Beware the Jubjub bird, and shun\\n', \"If life seems jolly rotten, there's something you've forgotten\\n\", '  The frumious Bandersnatch!\"\\n', \"And that's to laugh and smile and dance and sing\\n\", 'He took his vorpal sword in hand:\\n', \"When you're feeling in the dumps, don't be silly, chumps\\n\", '  Long time the manxome foe he sought --\\n', \"Just purse your lips and whistle, that's the thing\\n\", 'So rested he by the Tumtum tree,\\n', 'So, always look on the bright side of death\\n', '  And stood awhile in thought.\\n', 'Just before you draw your terminal breath\\n', 'And, as in uffish thought he stood,\\n', \"Life's a counterfeit and when you look at it\\n\", '  The Jabberwock, with eyes of flame,\\n', \"Life's a laugh and death's the joke, it's true\\n\", 'Came whiffling through the tulgey wood,\\n', \"You see, it's all a show, keep them laughing as you go\\n\", '  And burbled as it came!\\n', 'Just remember the last laugh is on you\\n', 'One, two! One, two! And through and through\\n', 'Always look on the bright side of life\\n', '  The vorpal blade went snicker-snack!\\n', 'And always look on the right side of life\\n', 'He left it dead, and with its head\\n', 'Always look on the bright side of life\\n', '  He went galumphing back.\\n', 'And always look on the right side of life\\n']\n"
          ]
        }
      ]
    },
    {
      "cell_type": "markdown",
      "source": [
        "#<font color=blue>**P14.**</font> Store the content, close the file, and join ( ) the list"
      ],
      "metadata": {
        "id": "iupO8iI-ZYAe"
      }
    },
    {
      "cell_type": "code",
      "source": [
        "with open(\"rosalind_ini5_1157_3_dataset.txt\",\"r\") as data:\n",
        "\n",
        "  list_of_lines=data.readlines()\n",
        "\n",
        "print(list_of_lines)"
      ],
      "metadata": {
        "id": "8U5w2qOudDyp",
        "colab": {
          "base_uri": "https://localhost:8080/"
        },
        "outputId": "1135cd71-7fc5-4c63-b73d-afd217d236b5"
      },
      "execution_count": null,
      "outputs": [
        {
          "output_type": "stream",
          "name": "stdout",
          "text": [
            "['`Twas brillig, and the slithy toves\\n', 'Some things in life are bad, they can really make you mad\\n', '  Did gyre and gimble in the wabe:\\n', 'Other things just make you swear and curse\\n', 'All mimsy were the borogoves,\\n', \"When you're chewing on life's gristle, don't grumble give a whistle\\n\", '  And the mome raths outgrabe.\\n', 'This will help things turn out for the best\\n', '\"Beware the Jabberwock, my son!\\n', 'Always look on the bright side of life\\n', '  The jaws that bite, the claws that catch!\\n', 'Always look on the right side of life\\n', 'Beware the Jubjub bird, and shun\\n', \"If life seems jolly rotten, there's something you've forgotten\\n\", '  The frumious Bandersnatch!\"\\n', \"And that's to laugh and smile and dance and sing\\n\", 'He took his vorpal sword in hand:\\n', \"When you're feeling in the dumps, don't be silly, chumps\\n\", '  Long time the manxome foe he sought --\\n', \"Just purse your lips and whistle, that's the thing\\n\", 'So rested he by the Tumtum tree,\\n', 'So, always look on the bright side of death\\n', '  And stood awhile in thought.\\n', 'Just before you draw your terminal breath\\n', 'And, as in uffish thought he stood,\\n', \"Life's a counterfeit and when you look at it\\n\", '  The Jabberwock, with eyes of flame,\\n', \"Life's a laugh and death's the joke, it's true\\n\", 'Came whiffling through the tulgey wood,\\n', \"You see, it's all a show, keep them laughing as you go\\n\", '  And burbled as it came!\\n', 'Just remember the last laugh is on you\\n', 'One, two! One, two! And through and through\\n', 'Always look on the bright side of life\\n', '  The vorpal blade went snicker-snack!\\n', 'And always look on the right side of life\\n', 'He left it dead, and with its head\\n', 'Always look on the bright side of life\\n', '  He went galumphing back.\\n', 'And always look on the right side of life\\n']\n"
          ]
        }
      ]
    },
    {
      "cell_type": "markdown",
      "source": [
        "####**TASK P14.1** Read practice.txt into a list of lines. Then, after the file is closed, use the join ( ) function to print the contents so it looks like the original input."
      ],
      "metadata": {
        "id": "5pPhGmQYiiKx"
      }
    },
    {
      "cell_type": "code",
      "source": [
        "\n",
        "with open(\"rosalind_ini5_1157_3_dataset.txt\",\"r\") as data:\n",
        "    list_of_lines = data.readlines()   # store lines in a list\n",
        "\n",
        "\n",
        "# Use join() with \"_\" as the separator\n",
        "print(\"_\".join(list_of_lines))\n"
      ],
      "metadata": {
        "id": "XLvFZ9uSeyYH",
        "colab": {
          "base_uri": "https://localhost:8080/"
        },
        "outputId": "70bba4ee-37ca-40e0-aad9-1263f0407e07"
      },
      "execution_count": null,
      "outputs": [
        {
          "output_type": "stream",
          "name": "stdout",
          "text": [
            "`Twas brillig, and the slithy toves\n",
            "_Some things in life are bad, they can really make you mad\n",
            "_  Did gyre and gimble in the wabe:\n",
            "_Other things just make you swear and curse\n",
            "_All mimsy were the borogoves,\n",
            "_When you're chewing on life's gristle, don't grumble give a whistle\n",
            "_  And the mome raths outgrabe.\n",
            "_This will help things turn out for the best\n",
            "_\"Beware the Jabberwock, my son!\n",
            "_Always look on the bright side of life\n",
            "_  The jaws that bite, the claws that catch!\n",
            "_Always look on the right side of life\n",
            "_Beware the Jubjub bird, and shun\n",
            "_If life seems jolly rotten, there's something you've forgotten\n",
            "_  The frumious Bandersnatch!\"\n",
            "_And that's to laugh and smile and dance and sing\n",
            "_He took his vorpal sword in hand:\n",
            "_When you're feeling in the dumps, don't be silly, chumps\n",
            "_  Long time the manxome foe he sought --\n",
            "_Just purse your lips and whistle, that's the thing\n",
            "_So rested he by the Tumtum tree,\n",
            "_So, always look on the bright side of death\n",
            "_  And stood awhile in thought.\n",
            "_Just before you draw your terminal breath\n",
            "_And, as in uffish thought he stood,\n",
            "_Life's a counterfeit and when you look at it\n",
            "_  The Jabberwock, with eyes of flame,\n",
            "_Life's a laugh and death's the joke, it's true\n",
            "_Came whiffling through the tulgey wood,\n",
            "_You see, it's all a show, keep them laughing as you go\n",
            "_  And burbled as it came!\n",
            "_Just remember the last laugh is on you\n",
            "_One, two! One, two! And through and through\n",
            "_Always look on the bright side of life\n",
            "_  The vorpal blade went snicker-snack!\n",
            "_And always look on the right side of life\n",
            "_He left it dead, and with its head\n",
            "_Always look on the bright side of life\n",
            "_  He went galumphing back.\n",
            "_And always look on the right side of life\n",
            "\n"
          ]
        }
      ]
    },
    {
      "cell_type": "markdown",
      "source": [
        "#<font color=blue>**P15.**</font> Combining for loops with file objects"
      ],
      "metadata": {
        "id": "lY924yM0jckW"
      }
    },
    {
      "cell_type": "markdown",
      "source": [
        "####**TASK P15.1** Use a for loop to print each line in practice.txt"
      ],
      "metadata": {
        "id": "NvqGEl4JjpiO"
      }
    },
    {
      "cell_type": "code",
      "source": [
        "with open(\"rosalind_ini5_1157_3_dataset.txt\",\"r\") as data:\n",
        "\n",
        "  for line in data:\n",
        "    print (line)"
      ],
      "metadata": {
        "id": "snY-10pUkMby",
        "colab": {
          "base_uri": "https://localhost:8080/"
        },
        "outputId": "02b2c10a-74c6-4275-a619-29f16029efd5"
      },
      "execution_count": null,
      "outputs": [
        {
          "output_type": "stream",
          "name": "stdout",
          "text": [
            "`Twas brillig, and the slithy toves\n",
            "\n",
            "Some things in life are bad, they can really make you mad\n",
            "\n",
            "  Did gyre and gimble in the wabe:\n",
            "\n",
            "Other things just make you swear and curse\n",
            "\n",
            "All mimsy were the borogoves,\n",
            "\n",
            "When you're chewing on life's gristle, don't grumble give a whistle\n",
            "\n",
            "  And the mome raths outgrabe.\n",
            "\n",
            "This will help things turn out for the best\n",
            "\n",
            "\"Beware the Jabberwock, my son!\n",
            "\n",
            "Always look on the bright side of life\n",
            "\n",
            "  The jaws that bite, the claws that catch!\n",
            "\n",
            "Always look on the right side of life\n",
            "\n",
            "Beware the Jubjub bird, and shun\n",
            "\n",
            "If life seems jolly rotten, there's something you've forgotten\n",
            "\n",
            "  The frumious Bandersnatch!\"\n",
            "\n",
            "And that's to laugh and smile and dance and sing\n",
            "\n",
            "He took his vorpal sword in hand:\n",
            "\n",
            "When you're feeling in the dumps, don't be silly, chumps\n",
            "\n",
            "  Long time the manxome foe he sought --\n",
            "\n",
            "Just purse your lips and whistle, that's the thing\n",
            "\n",
            "So rested he by the Tumtum tree,\n",
            "\n",
            "So, always look on the bright side of death\n",
            "\n",
            "  And stood awhile in thought.\n",
            "\n",
            "Just before you draw your terminal breath\n",
            "\n",
            "And, as in uffish thought he stood,\n",
            "\n",
            "Life's a counterfeit and when you look at it\n",
            "\n",
            "  The Jabberwock, with eyes of flame,\n",
            "\n",
            "Life's a laugh and death's the joke, it's true\n",
            "\n",
            "Came whiffling through the tulgey wood,\n",
            "\n",
            "You see, it's all a show, keep them laughing as you go\n",
            "\n",
            "  And burbled as it came!\n",
            "\n",
            "Just remember the last laugh is on you\n",
            "\n",
            "One, two! One, two! And through and through\n",
            "\n",
            "Always look on the bright side of life\n",
            "\n",
            "  The vorpal blade went snicker-snack!\n",
            "\n",
            "And always look on the right side of life\n",
            "\n",
            "He left it dead, and with its head\n",
            "\n",
            "Always look on the bright side of life\n",
            "\n",
            "  He went galumphing back.\n",
            "\n",
            "And always look on the right side of life\n",
            "\n"
          ]
        }
      ]
    },
    {
      "cell_type": "markdown",
      "source": [
        "####**TASK P15.2** <font color=orange>**Complete Rosalind Problem #4 Working with Files**</font>\n"
      ],
      "metadata": {
        "id": "DHzE7CI4lWGw"
      }
    },
    {
      "cell_type": "code",
      "source": [
        "# Rosalind Problem #4\n",
        "with open(\"rosalind_ini5_1157_3_dataset.txt\", \"r\") as infile:\n",
        "    lines = infile.readlines()\n",
        "\n",
        "\n",
        "even_lines = [line for idx, line in enumerate(lines, start=1) if idx % 2 == 0]\n",
        "\n",
        "\n",
        "output = \"\".join(even_lines)\n",
        "output[:500]\n"
      ],
      "metadata": {
        "id": "8QR9dRFtltBN",
        "colab": {
          "base_uri": "https://localhost:8080/",
          "height": 104
        },
        "outputId": "904e6fe5-e4c6-4b40-a045-3b3e66e24db2"
      },
      "execution_count": null,
      "outputs": [
        {
          "output_type": "execute_result",
          "data": {
            "text/plain": [
              "\"Some things in life are bad, they can really make you mad\\nOther things just make you swear and curse\\nWhen you're chewing on life's gristle, don't grumble give a whistle\\nThis will help things turn out for the best\\nAlways look on the bright side of life\\nAlways look on the right side of life\\nIf life seems jolly rotten, there's something you've forgotten\\nAnd that's to laugh and smile and dance and sing\\nWhen you're feeling in the dumps, don't be silly, chumps\\nJust purse your lips and whistle, that's \""
            ],
            "application/vnd.google.colaboratory.intrinsic+json": {
              "type": "string"
            }
          },
          "metadata": {},
          "execution_count": 92
        }
      ]
    }
  ]
}