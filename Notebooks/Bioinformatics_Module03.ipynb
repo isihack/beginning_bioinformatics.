{
  "nbformat": 4,
  "nbformat_minor": 0,
  "metadata": {
    "colab": {
      "provenance": [],
      "collapsed_sections": [
        "jYlnA2Z2FhoW",
        "qRj8vCvXG-1k",
        "s7deJQCHHwOa",
        "GtjxkNHWN5Xo",
        "3yswDberkE7N",
        "4IM-9eAGkPdi",
        "nlBbe3qBRH_J",
        "_F9KCUzCd3ID",
        "iHFNxm30lzic",
        "sOgq54Op4MZL",
        "R5_dYi9f6t1z",
        "LdtXZ0LW9ugo",
        "i4Fo-ddSKWwy",
        "iupO8iI-ZYAe",
        "lY924yM0jckW",
        "NvqGEl4JjpiO",
        "DHzE7CI4lWGw",
        "WD5wnvQkmh6E",
        "kApNvgOLn8lp",
        "kq9QbEttnA4h"
      ]
    },
    "kernelspec": {
      "name": "python3",
      "display_name": "Python 3"
    },
    "language_info": {
      "name": "python"
    }
  },
  "cells": [
    {
      "cell_type": "markdown",
      "source": [
        "# **<font color=blue>P1.** </font>Rename this notebook **Bioinformatics_Module03.ipynb </font><br>**"
      ],
      "metadata": {
        "id": "l3h89jAYBUzz"
      }
    },
    {
      "cell_type": "markdown",
      "source": [
        "# **<font color=blue>P2. </font>**```print()```writes to standard output (i.e. prints output to the screen)"
      ],
      "metadata": {
        "id": "jYlnA2Z2FhoW"
      }
    },
    {
      "cell_type": "markdown",
      "source": [
        "####**TASK P2.1:** Print <font color = magenta>hello world</font>"
      ],
      "metadata": {
        "id": "r118fqQodA9x"
      }
    },
    {
      "cell_type": "code",
      "source": [
        "print(\"hello world\")"
      ],
      "metadata": {
        "id": "kvxK8D5uFx_x",
        "outputId": "c534ebee-6a59-455e-a3ef-d7acb7924642",
        "colab": {
          "base_uri": "https://localhost:8080/"
        }
      },
      "execution_count": 28,
      "outputs": [
        {
          "output_type": "stream",
          "name": "stdout",
          "text": [
            "hello world\n"
          ]
        }
      ]
    },
    {
      "cell_type": "markdown",
      "source": [
        "# **<font color=blue>P3. </font>**```=``` is the ASSIGNMENT operator (assigns values to variables)\n",
        "####**TASK P3.1:** Ask Gemini, \"*Give me 3 examples to help practice understanding the assignment operator.*\""
      ],
      "metadata": {
        "id": "qRj8vCvXG-1k"
      }
    },
    {
      "cell_type": "code",
      "source": [
        "x=5\n",
        "x"
      ],
      "metadata": {
        "id": "VB8HPNe7JpuJ",
        "outputId": "4e55ad6a-ca52-499a-fb73-d631f1a3e284",
        "colab": {
          "base_uri": "https://localhost:8080/"
        }
      },
      "execution_count": 33,
      "outputs": [
        {
          "output_type": "execute_result",
          "data": {
            "text/plain": [
              "5"
            ]
          },
          "metadata": {},
          "execution_count": 33
        }
      ]
    },
    {
      "cell_type": "code",
      "metadata": {
        "colab": {
          "base_uri": "https://localhost:8080/"
        },
        "id": "c025d4f9",
        "outputId": "ca82d389-8471-436b-e9eb-be4b7ca00ca3"
      },
      "source": [
        "# Example 1: Assigning a string to a variable\n",
        "name = \"Alice\"\n",
        "print(f\"My name is: {name}\")"
      ],
      "execution_count": 34,
      "outputs": [
        {
          "output_type": "stream",
          "name": "stdout",
          "text": [
            "My name is: Alice\n"
          ]
        }
      ]
    },
    {
      "cell_type": "code",
      "metadata": {
        "colab": {
          "base_uri": "https://localhost:8080/"
        },
        "id": "b5a4cfc2",
        "outputId": "f3b68dd0-cf95-48e3-839c-da45b7c95cee"
      },
      "source": [
        "# Example 2: Assigning a boolean value to a variable\n",
        "is_student = True\n",
        "print(f\"Am I a student? {is_student}\")"
      ],
      "execution_count": 35,
      "outputs": [
        {
          "output_type": "stream",
          "name": "stdout",
          "text": [
            "Am I a student? True\n"
          ]
        }
      ]
    },
    {
      "cell_type": "code",
      "metadata": {
        "colab": {
          "base_uri": "https://localhost:8080/"
        },
        "id": "a5a6a3fb",
        "outputId": "b9ed0ff4-c0a9-4d84-beac-f06bfbeb7981"
      },
      "source": [
        "# Example 3: Reassigning a variable with a new value\n",
        "count = 10\n",
        "print(f\"Initial count: {count}\")\n",
        "count = count + 5\n",
        "print(f\"New count: {count}\")"
      ],
      "execution_count": 36,
      "outputs": [
        {
          "output_type": "stream",
          "name": "stdout",
          "text": [
            "Initial count: 10\n",
            "New count: 15\n"
          ]
        }
      ]
    },
    {
      "cell_type": "markdown",
      "source": [
        "# **<font color=blue>P4. </font>** Data types: use ```type()``` to find a variable's \"type\"\n",
        "####**TASK P4.1:** Ask Gemini, \"*Give me examples of each data type to see how they look as outputs.*\""
      ],
      "metadata": {
        "id": "s7deJQCHHwOa"
      }
    },
    {
      "cell_type": "code",
      "source": [
        "type(x)"
      ],
      "metadata": {
        "colab": {
          "base_uri": "https://localhost:8080/"
        },
        "id": "7855ajbYQBwh",
        "outputId": "b2d27ad8-4702-4e15-fcef-8e8077ea76c5"
      },
      "execution_count": 37,
      "outputs": [
        {
          "output_type": "execute_result",
          "data": {
            "text/plain": [
              "int"
            ]
          },
          "metadata": {},
          "execution_count": 37
        }
      ]
    },
    {
      "cell_type": "code",
      "source": [
        "# Integer\n",
        "my_integer = 10\n",
        "print(f\"Integer: {my_integer}, Type: {type(my_integer)}\")\n",
        "\n",
        "# Float\n",
        "my_float = 10.5\n",
        "print(f\"Float: {my_float}, Type: {type(my_float)}\")\n",
        "\n",
        "# String\n",
        "my_string = \"Hello\"\n",
        "print(f\"String: {my_string}, Type: {type(my_string)}\")\n",
        "\n",
        "# Boolean\n",
        "my_boolean = True\n",
        "print(f\"Boolean: {my_boolean}, Type: {type(my_boolean)}\")\n",
        "\n",
        "# List\n",
        "my_list = [1, 2, 3]\n",
        "print(f\"List: {my_list}, Type: {type(my_list)}\")\n",
        "\n",
        "# Tuple\n",
        "my_tuple = (1, 2, 3)\n",
        "print(f\"Tuple: {my_tuple}, Type: {type(my_tuple)}\")\n",
        "\n",
        "# Dictionary\n",
        "my_dictionary = {\"a\": 1, \"b\": 2}\n",
        "print(f\"Dictionary: {my_dictionary}, Type: {type(my_dictionary)}\")\n",
        "\n",
        "# Set\n",
        "my_set = {1, 2, 3}\n",
        "print(f\"Set: {my_set}, Type: {type(my_set)}\")"
      ],
      "metadata": {
        "colab": {
          "base_uri": "https://localhost:8080/"
        },
        "id": "jTj8emriQqQl",
        "outputId": "c541b9e8-18c2-4139-b92f-3f9c63f112c4"
      },
      "execution_count": 40,
      "outputs": [
        {
          "output_type": "stream",
          "name": "stdout",
          "text": [
            "Integer: 10, Type: <class 'int'>\n",
            "Float: 10.5, Type: <class 'float'>\n",
            "String: Hello, Type: <class 'str'>\n",
            "Boolean: True, Type: <class 'bool'>\n",
            "List: [1, 2, 3], Type: <class 'list'>\n",
            "Tuple: (1, 2, 3), Type: <class 'tuple'>\n",
            "Dictionary: {'a': 1, 'b': 2}, Type: <class 'dict'>\n",
            "Set: {1, 2, 3}, Type: <class 'set'>\n"
          ]
        }
      ]
    },
    {
      "cell_type": "markdown",
      "source": [
        "# **<font color=blue>P5. </font>** Arithmetic and comparison operators\n",
        "####**TASK P5.1:**   Complete Rosalind #1"
      ],
      "metadata": {
        "id": "GtjxkNHWN5Xo"
      }
    },
    {
      "cell_type": "code",
      "source": [
        "y=2+3\n",
        "print(y)\n",
        "x==y"
      ],
      "metadata": {
        "id": "45s9c4vyQm2U",
        "colab": {
          "base_uri": "https://localhost:8080/"
        },
        "outputId": "b923f92e-a7c2-4aca-c6eb-67b8e2418bb8"
      },
      "execution_count": 42,
      "outputs": [
        {
          "output_type": "stream",
          "name": "stdout",
          "text": [
            "5\n"
          ]
        },
        {
          "output_type": "execute_result",
          "data": {
            "text/plain": [
              "True"
            ]
          },
          "metadata": {},
          "execution_count": 42
        }
      ]
    },
    {
      "cell_type": "code",
      "source": [
        "#  Rosalind #1\n",
        "\n",
        "# 1. Read the dataset file\n",
        "with open(\"rosalind_ini2_1157_4_dataset.txt\") as f:\n",
        "    data = f.read().strip()\n",
        "\n",
        "# 2. Extract the integers a and b\n",
        "a, b = map(int, data.split())\n",
        "\n",
        "# 3. Compute the square of the hypotenuse\n",
        "output = a**2 + b**2\n",
        "\n",
        "# 4. Display the result\n",
        "print(output)\n"
      ],
      "metadata": {
        "colab": {
          "base_uri": "https://localhost:8080/"
        },
        "id": "BBUfVd-IQ8fz",
        "outputId": "02313f86-5eea-48fa-e5d0-2c8187cae666"
      },
      "execution_count": 44,
      "outputs": [
        {
          "output_type": "stream",
          "name": "stdout",
          "text": [
            "1681250\n"
          ]
        }
      ]
    },
    {
      "cell_type": "markdown",
      "source": [
        "# **<font color=blue>P6. </font>** ```input()``` gets input from the user"
      ],
      "metadata": {
        "id": "3yswDberkE7N"
      }
    },
    {
      "cell_type": "markdown",
      "source": [
        "TASK P6.1"
      ],
      "metadata": {
        "id": "z97rSY9gqdad"
      }
    },
    {
      "cell_type": "code",
      "metadata": {
        "colab": {
          "base_uri": "https://localhost:8080/"
        },
        "id": "d91046dd",
        "outputId": "0fdd9fe7-1f97-4640-8ab5-a8a64681a3e8"
      },
      "source": [
        "name = input(\"Enter your name: \")\n",
        "print(\"Hello, \" + name)"
      ],
      "execution_count": 45,
      "outputs": [
        {
          "output_type": "stream",
          "name": "stdout",
          "text": [
            "Enter your name: Isihack \n",
            "Hello, Isihack \n"
          ]
        }
      ]
    },
    {
      "cell_type": "markdown",
      "source": [
        "####**TASK P6.1:** Solve Rosalind #1 again, but get user input for the values of a and b rather than modifying the code."
      ],
      "metadata": {
        "id": "e3LaAQeLRmE6"
      }
    },
    {
      "cell_type": "code",
      "source": [
        "a= int(input(\"enter a value for a:\"))\n",
        "b= int(input(\"enter a value for b:\"))\n",
        "c=a**2+b**2\n",
        "print (\"The sq of the hypotenuse is\",c)"
      ],
      "metadata": {
        "id": "wZ0XL0L6Rq2H",
        "colab": {
          "base_uri": "https://localhost:8080/"
        },
        "outputId": "40387742-cdd0-4b35-e801-6b4ce494fd0d"
      },
      "execution_count": 46,
      "outputs": [
        {
          "output_type": "stream",
          "name": "stdout",
          "text": [
            "enter a value for a:997\n",
            "enter a value for b:829\n",
            "The sq of the hypotenuse is 1681250\n"
          ]
        }
      ]
    },
    {
      "cell_type": "markdown",
      "source": [
        "# **<font color=blue>P7. </font>** ```list``` type variables (create, replace, append)"
      ],
      "metadata": {
        "id": "4IM-9eAGkPdi"
      }
    },
    {
      "cell_type": "markdown",
      "source": [
        "####**TASK P7.1**"
      ],
      "metadata": {
        "id": "DhNGdYK6NEpe"
      }
    },
    {
      "cell_type": "code",
      "source": [
        "# Create a list with 3 elements and then print them\n",
        "\n",
        "my_list = [\"Hello\", \"World\", \"Charles Darwin\"]\n",
        "print (my_list)"
      ],
      "metadata": {
        "id": "N3VRRQIEkXuP",
        "colab": {
          "base_uri": "https://localhost:8080/"
        },
        "outputId": "8b631aa9-5f01-4547-be8a-33441ed1f16c"
      },
      "execution_count": 52,
      "outputs": [
        {
          "output_type": "stream",
          "name": "stdout",
          "text": [
            "['Hello', 'World', 'Charles Darwin']\n"
          ]
        }
      ]
    },
    {
      "cell_type": "markdown",
      "source": [
        "####**TASK P7.2**"
      ],
      "metadata": {
        "id": "Yn3bAoi8NKy5"
      }
    },
    {
      "cell_type": "code",
      "source": [
        "# Substitute the item at index 2 in the list\n",
        "my_list[2] = \"Alfred R. Wallace\"\n",
        "print (my_list)"
      ],
      "metadata": {
        "id": "WNnsUuduOKbI",
        "colab": {
          "base_uri": "https://localhost:8080/"
        },
        "outputId": "c611c727-e1fe-4ccd-a45d-a156d4280650"
      },
      "execution_count": 48,
      "outputs": [
        {
          "output_type": "stream",
          "name": "stdout",
          "text": [
            "['Hello', 'World', 'Alfred R. Wallace']\n"
          ]
        }
      ]
    },
    {
      "cell_type": "markdown",
      "source": [
        "####**TASK P7.3**"
      ],
      "metadata": {
        "id": "SxiMMNLyPwGV"
      }
    },
    {
      "cell_type": "code",
      "source": [
        "# Append an item to the end of the list\n",
        "my_list.append(\"Charles Darwin\")\n",
        "print (my_list)"
      ],
      "metadata": {
        "id": "3VrLc6CGQTi-",
        "colab": {
          "base_uri": "https://localhost:8080/"
        },
        "outputId": "0293d711-5238-4c2f-bc37-d63c383edc62"
      },
      "execution_count": 53,
      "outputs": [
        {
          "output_type": "stream",
          "name": "stdout",
          "text": [
            "['Hello', 'World', 'Charles Darwin', 'Charles Darwin']\n"
          ]
        }
      ]
    },
    {
      "cell_type": "markdown",
      "source": [
        "####**TASK P7.4**. Ask Gemini how to <font color=crimson>```insert```</font> a new item at index 1 in the list"
      ],
      "metadata": {
        "id": "XQKmwgbfQond"
      }
    },
    {
      "cell_type": "code",
      "source": [
        "# On line #2 insert an item at index 1 of my_list\n",
        "my_list.insert(1, \"Python\")\n",
        "print (my_list)"
      ],
      "metadata": {
        "id": "u0maP5CZZN13",
        "colab": {
          "base_uri": "https://localhost:8080/"
        },
        "outputId": "42778311-aca9-4d5f-a0e8-e4cb2df65b01"
      },
      "execution_count": 55,
      "outputs": [
        {
          "output_type": "stream",
          "name": "stdout",
          "text": [
            "['Hello', 'Python', 'World', 'Charles Darwin', 'Charles Darwin']\n"
          ]
        }
      ]
    },
    {
      "cell_type": "markdown",
      "source": [
        "# **<font color=blue>P8. </font>** Slicing lists and strings"
      ],
      "metadata": {
        "id": "nlBbe3qBRH_J"
      }
    },
    {
      "cell_type": "markdown",
      "source": [
        "####**TASK P8.1** Slice and print only the middle two elements from the list created in P7 (i.e. only <font color=magenta>World</font> and <font color=magenta>Alfred R. Wallace</font>).  "
      ],
      "metadata": {
        "id": "M0YW2MP0WtuI"
      }
    },
    {
      "cell_type": "code",
      "source": [
        "print (my_list[2:4])"
      ],
      "metadata": {
        "colab": {
          "base_uri": "https://localhost:8080/"
        },
        "id": "Tp1djNtiaxSb",
        "outputId": "74e4cccd-8a44-499a-9a6c-6d5ad26ef391"
      },
      "execution_count": 56,
      "outputs": [
        {
          "output_type": "stream",
          "name": "stdout",
          "text": [
            "['World', 'Charles Darwin']\n"
          ]
        }
      ]
    },
    {
      "cell_type": "markdown",
      "source": [
        "####**TASK P8.2**: Print <font color=magenta>Wallace World</font> from **my_string** by slicing\n"
      ],
      "metadata": {
        "id": "_F9KCUzCd3ID"
      }
    },
    {
      "cell_type": "code",
      "source": [
        "my_string = \"HelloWorldCharlesDarwinAlfred R. Walace\"\n",
        "print (my_string[0:5],my_string[5:10])\n",
        "\n",
        "# in the print command below input the correct index values to complete Task P8.2\n",
        "print(my_string[28:35], my_string[5:10])\n"
      ],
      "metadata": {
        "colab": {
          "base_uri": "https://localhost:8080/"
        },
        "id": "AafKngtba8En",
        "outputId": "bf99821d-ac7f-49ba-8b0f-3348ebec2322"
      },
      "execution_count": 59,
      "outputs": [
        {
          "output_type": "stream",
          "name": "stdout",
          "text": [
            "Hello World\n",
            "d R. Wa World\n"
          ]
        }
      ]
    },
    {
      "cell_type": "markdown",
      "source": [
        "####**TASK P8.3**  **<font color = orange> Complete Rosalind Problem #2 Strings and Lists</font>**"
      ],
      "metadata": {
        "id": "2TTQVE-Xf8jR"
      }
    },
    {
      "cell_type": "code",
      "source": [
        "# Enter code for Rosalind 2 here:\n",
        "with open(\"rosalind_ini3_1157_1_dataset.txt\") as f:\n",
        "    lines = f.read().strip().splitlines()\n",
        "\n",
        "# First line is the string s, second line are the four integers\n",
        "s = lines[0].strip()\n",
        "a, b, c, d = map(int, lines[1].split())\n",
        "\n",
        "# Slice including indices a..b and c..d (inclusive)\n",
        "slice1 = s[a:b+1]\n",
        "slice2 = s[c:d+1]\n",
        "\n",
        "result = f\"{slice1} {slice2}\"\n",
        "result"
      ],
      "metadata": {
        "id": "LI88f5RZh4GL",
        "colab": {
          "base_uri": "https://localhost:8080/",
          "height": 35
        },
        "outputId": "ad352254-ce03-4dbc-fdc9-3f5592333e3b"
      },
      "execution_count": 61,
      "outputs": [
        {
          "output_type": "execute_result",
          "data": {
            "text/plain": [
              "'Pyrrhocorax dubia'"
            ],
            "application/vnd.google.colaboratory.intrinsic+json": {
              "type": "string"
            }
          },
          "metadata": {},
          "execution_count": 61
        }
      ]
    },
    {
      "cell_type": "markdown",
      "source": [
        "####**<font color=crimson>TASK 8.4 Commit to GitHub**</font>*italicized text*"
      ],
      "metadata": {
        "id": "Tw6Pwh6TjwJ9"
      }
    },
    {
      "cell_type": "markdown",
      "source": [
        "# **<font color=blue>P9. </font>** ```if``` and ```else``` - conditional output"
      ],
      "metadata": {
        "id": "iHFNxm30lzic"
      }
    },
    {
      "cell_type": "markdown",
      "source": [
        "####**TASK P9.1** Create some code that subtracts two numbers if they are different or adds them if they are the same."
      ],
      "metadata": {
        "id": "WCXnGdftztbN"
      }
    },
    {
      "cell_type": "code",
      "source": [
        "a=5\n",
        "b=5\n",
        "\n",
        "if a!=b:\n",
        "  print(a-b)\n",
        "\n",
        "else:\n",
        "  print(a+b)"
      ],
      "metadata": {
        "id": "KabZsL5Fy8jJ",
        "colab": {
          "base_uri": "https://localhost:8080/"
        },
        "outputId": "db7ce132-cdcb-4623-952f-5d9959a157df"
      },
      "execution_count": 62,
      "outputs": [
        {
          "output_type": "stream",
          "name": "stdout",
          "text": [
            "10\n"
          ]
        }
      ]
    },
    {
      "cell_type": "markdown",
      "source": [
        "# **<font color=blue>P10.</font>** ```while``` loops"
      ],
      "metadata": {
        "id": "sOgq54Op4MZL"
      }
    },
    {
      "cell_type": "markdown",
      "source": [
        "####**TASK P10.1** Create a while loop that runs 3 times\n"
      ],
      "metadata": {
        "id": "JMqGqhTn4l9s"
      }
    },
    {
      "cell_type": "code",
      "source": [
        "#initiate a counter\n",
        "a = 1\n",
        "\n",
        "#print \"Counting!\" while a<=3\n",
        "while a <= 3:\n",
        "\n",
        "    print (\"Counting!\" * a)\n",
        "    a += 1"
      ],
      "metadata": {
        "id": "07YbiCGO4O1w",
        "colab": {
          "base_uri": "https://localhost:8080/"
        },
        "outputId": "bd222055-f417-4dfd-ca58-a067e842f14f"
      },
      "execution_count": 64,
      "outputs": [
        {
          "output_type": "stream",
          "name": "stdout",
          "text": [
            "Counting!\n",
            "Counting!Counting!\n",
            "Counting!Counting!Counting!\n"
          ]
        }
      ]
    },
    {
      "cell_type": "markdown",
      "source": [
        "# **<font color=blue>P11.</font>** ```for``` loops – looping over lists"
      ],
      "metadata": {
        "id": "R5_dYi9f6t1z"
      }
    },
    {
      "cell_type": "markdown",
      "source": [
        "####**TASK P11.1** Create a for loop to print each item in a list\n"
      ],
      "metadata": {
        "id": "x9F7v_V073wO"
      }
    },
    {
      "cell_type": "code",
      "source": [
        "names = [\"Alice\",\"Bob\",\"Charley\"]\n",
        "\n",
        "for name in names:\n",
        "    print (\"Hello\", name)"
      ],
      "metadata": {
        "id": "-aqaQ5hz70yo",
        "colab": {
          "base_uri": "https://localhost:8080/"
        },
        "outputId": "ecf72c2d-9332-4beb-8b99-4ab4916ff874"
      },
      "execution_count": 65,
      "outputs": [
        {
          "output_type": "stream",
          "name": "stdout",
          "text": [
            "Hello Alice\n",
            "Hello Bob\n",
            "Hello Charley\n"
          ]
        }
      ]
    },
    {
      "cell_type": "markdown",
      "source": [
        "# **<font color=blue>P12.</font>** ```for``` loops over a ```range()```of numbers"
      ],
      "metadata": {
        "id": "LdtXZ0LW9ugo"
      }
    },
    {
      "cell_type": "markdown",
      "source": [
        "####**TASK 12.1** Using for and range(), create code that prints the numbers 0-9"
      ],
      "metadata": {
        "id": "jG6jvXEBDi4H"
      }
    },
    {
      "cell_type": "code",
      "source": [
        "# Create a variable to define the  number of iterations\n",
        "iterations = 10\n",
        "\n",
        "#Print the current item's value each time through the loop\n",
        "for number in range(iterations):\n",
        "    print (number)"
      ],
      "metadata": {
        "colab": {
          "base_uri": "https://localhost:8080/"
        },
        "id": "RFBXqQNu_E6X",
        "outputId": "04da4de0-89ff-48ab-ae0a-cdbc90d12bc9"
      },
      "execution_count": 66,
      "outputs": [
        {
          "output_type": "stream",
          "name": "stdout",
          "text": [
            "0\n",
            "1\n",
            "2\n",
            "3\n",
            "4\n",
            "5\n",
            "6\n",
            "7\n",
            "8\n",
            "9\n"
          ]
        }
      ]
    },
    {
      "cell_type": "markdown",
      "source": [
        "####**TASK 12.2** Modify the code so that it only prints every 3rd number from 9 through 27 (i.e. including 27)"
      ],
      "metadata": {
        "id": "NRd5srR_G-PQ"
      }
    },
    {
      "cell_type": "code",
      "source": [
        "#  Print every 3rd number from 9 through 27\n",
        "\n",
        "for number in range(9, 28, 3):\n",
        "    print(number)\n"
      ],
      "metadata": {
        "id": "irYTFPO-IRHo",
        "colab": {
          "base_uri": "https://localhost:8080/"
        },
        "outputId": "3bc6efec-fbc1-49a8-86e2-320aed6bcbbf"
      },
      "execution_count": 67,
      "outputs": [
        {
          "output_type": "stream",
          "name": "stdout",
          "text": [
            "9\n",
            "12\n",
            "15\n",
            "18\n",
            "21\n",
            "24\n",
            "27\n"
          ]
        }
      ]
    },
    {
      "cell_type": "markdown",
      "source": [
        "####**TASK 12.3** <font color = orange> **Complete Rosalind Problem #3 Conditions and Loops** </font>"
      ],
      "metadata": {
        "id": "83jDEjpMHXUa"
      }
    },
    {
      "cell_type": "code",
      "source": [
        "# Enter code for Rosalind 3 here:\n",
        "with open(\"rosalind_ini4_1157_1_dataset.txt\") as f:\n",
        "    a, b = map(int, f.read().strip().split())\n",
        "\n",
        "# Compute the sum of all odd integers from a through b (inclusive)\n",
        "odd_sum = sum(x for x in range(a, b+1) if x % 2 == 1)\n",
        "odd_sum"
      ],
      "metadata": {
        "id": "EI7hRtakG90R",
        "colab": {
          "base_uri": "https://localhost:8080/"
        },
        "outputId": "6765c5c4-0199-4730-c5f7-0ccb4a8fd398"
      },
      "execution_count": 68,
      "outputs": [
        {
          "output_type": "execute_result",
          "data": {
            "text/plain": [
              "16794995"
            ]
          },
          "metadata": {},
          "execution_count": 68
        }
      ]
    },
    {
      "cell_type": "markdown",
      "source": [
        "####**<font color=crimson>TASK 12.4 Commit to GitHub**</font>"
      ],
      "metadata": {
        "id": "3P9DKNbPI1wp"
      }
    },
    {
      "cell_type": "markdown",
      "source": [
        "# **<font color=blue>P13.</font>** File I/O – with open(\"filename\", \"mode\") as filehandle:\n"
      ],
      "metadata": {
        "id": "i4Fo-ddSKWwy"
      }
    },
    {
      "cell_type": "markdown",
      "source": [
        "####**TASK P13.1** Use the ```read()``` function to print the <font color = orange>practice dataset from Rosalind #4</font>\n"
      ],
      "metadata": {
        "id": "sgc3wiQmLXcI"
      }
    },
    {
      "cell_type": "code",
      "source": [
        "with open(\"rosalind_ini5_1157_3_dataset.txt\",\"r\") as data:\n",
        "\n",
        "    print(data.read())\n",
        "\n",
        "    #print(data.readline())\n",
        "\n",
        "    #print(data.readlines())"
      ],
      "metadata": {
        "id": "V5nzHsnULA_n",
        "colab": {
          "base_uri": "https://localhost:8080/"
        },
        "outputId": "747121c8-edcf-4a82-ad97-1df21295d9fd"
      },
      "execution_count": 74,
      "outputs": [
        {
          "output_type": "stream",
          "name": "stdout",
          "text": [
            "`Twas brillig, and the slithy toves\n",
            "Some things in life are bad, they can really make you mad\n",
            "  Did gyre and gimble in the wabe:\n",
            "Other things just make you swear and curse\n",
            "All mimsy were the borogoves,\n",
            "When you're chewing on life's gristle, don't grumble give a whistle\n",
            "  And the mome raths outgrabe.\n",
            "This will help things turn out for the best\n",
            "\"Beware the Jabberwock, my son!\n",
            "Always look on the bright side of life\n",
            "  The jaws that bite, the claws that catch!\n",
            "Always look on the right side of life\n",
            "Beware the Jubjub bird, and shun\n",
            "If life seems jolly rotten, there's something you've forgotten\n",
            "  The frumious Bandersnatch!\"\n",
            "And that's to laugh and smile and dance and sing\n",
            "He took his vorpal sword in hand:\n",
            "When you're feeling in the dumps, don't be silly, chumps\n",
            "  Long time the manxome foe he sought --\n",
            "Just purse your lips and whistle, that's the thing\n",
            "So rested he by the Tumtum tree,\n",
            "So, always look on the bright side of death\n",
            "  And stood awhile in thought.\n",
            "Just before you draw your terminal breath\n",
            "And, as in uffish thought he stood,\n",
            "Life's a counterfeit and when you look at it\n",
            "  The Jabberwock, with eyes of flame,\n",
            "Life's a laugh and death's the joke, it's true\n",
            "Came whiffling through the tulgey wood,\n",
            "You see, it's all a show, keep them laughing as you go\n",
            "  And burbled as it came!\n",
            "Just remember the last laugh is on you\n",
            "One, two! One, two! And through and through\n",
            "Always look on the bright side of life\n",
            "  The vorpal blade went snicker-snack!\n",
            "And always look on the right side of life\n",
            "He left it dead, and with its head\n",
            "Always look on the bright side of life\n",
            "  He went galumphing back.\n",
            "And always look on the right side of life\n",
            "\n"
          ]
        }
      ]
    },
    {
      "cell_type": "markdown",
      "source": [
        "####**TASK P13.2** Explore file object functions to read and print practice.txt"
      ],
      "metadata": {
        "id": "GLO6tBYNVzYZ"
      }
    },
    {
      "cell_type": "code",
      "source": [
        "# : Explore file object functions to read and print practice.txt\n",
        "\n",
        "# Open the file in read mode\n",
        "with open(\"rosalind_ini5_1157_3_dataset.txt\", \"r\") as data:\n",
        "\n",
        "    # 1. Read the entire file as a single string\n",
        "    print(\"---- Using read() ----\")\n",
        "    data_content = data.read()\n",
        "    print(data_content)\n",
        "\n",
        "\n",
        "with open(\"rosalind_ini5_1157_3_dataset.txt\", \"r\") as data:\n",
        "\n",
        "    #  Read just the first line\n",
        "    print(\"\\n---- Using readline() ----\")\n",
        "    first_line = data.readline()\n",
        "    print(first_line)\n",
        "\n",
        "with open(\"rosalind_ini5_1157_3_dataset.txt\", \"r\") as data:\n",
        "\n",
        "    # Read all lines into a list\n",
        "    print(\"\\n---- Using readlines() ----\")\n",
        "    all_lines = data.readlines()\n",
        "    print(all_lines)\n"
      ],
      "metadata": {
        "colab": {
          "base_uri": "https://localhost:8080/"
        },
        "id": "6KjM552QXWrH",
        "outputId": "02ec12c6-9f4f-4b73-a4e4-9f8afe4973bb"
      },
      "execution_count": 76,
      "outputs": [
        {
          "output_type": "stream",
          "name": "stdout",
          "text": [
            "---- Using read() ----\n",
            "`Twas brillig, and the slithy toves\n",
            "Some things in life are bad, they can really make you mad\n",
            "  Did gyre and gimble in the wabe:\n",
            "Other things just make you swear and curse\n",
            "All mimsy were the borogoves,\n",
            "When you're chewing on life's gristle, don't grumble give a whistle\n",
            "  And the mome raths outgrabe.\n",
            "This will help things turn out for the best\n",
            "\"Beware the Jabberwock, my son!\n",
            "Always look on the bright side of life\n",
            "  The jaws that bite, the claws that catch!\n",
            "Always look on the right side of life\n",
            "Beware the Jubjub bird, and shun\n",
            "If life seems jolly rotten, there's something you've forgotten\n",
            "  The frumious Bandersnatch!\"\n",
            "And that's to laugh and smile and dance and sing\n",
            "He took his vorpal sword in hand:\n",
            "When you're feeling in the dumps, don't be silly, chumps\n",
            "  Long time the manxome foe he sought --\n",
            "Just purse your lips and whistle, that's the thing\n",
            "So rested he by the Tumtum tree,\n",
            "So, always look on the bright side of death\n",
            "  And stood awhile in thought.\n",
            "Just before you draw your terminal breath\n",
            "And, as in uffish thought he stood,\n",
            "Life's a counterfeit and when you look at it\n",
            "  The Jabberwock, with eyes of flame,\n",
            "Life's a laugh and death's the joke, it's true\n",
            "Came whiffling through the tulgey wood,\n",
            "You see, it's all a show, keep them laughing as you go\n",
            "  And burbled as it came!\n",
            "Just remember the last laugh is on you\n",
            "One, two! One, two! And through and through\n",
            "Always look on the bright side of life\n",
            "  The vorpal blade went snicker-snack!\n",
            "And always look on the right side of life\n",
            "He left it dead, and with its head\n",
            "Always look on the bright side of life\n",
            "  He went galumphing back.\n",
            "And always look on the right side of life\n",
            "\n",
            "\n",
            "---- Using readline() ----\n",
            "`Twas brillig, and the slithy toves\n",
            "\n",
            "\n",
            "---- Using readlines() ----\n",
            "['`Twas brillig, and the slithy toves\\n', 'Some things in life are bad, they can really make you mad\\n', '  Did gyre and gimble in the wabe:\\n', 'Other things just make you swear and curse\\n', 'All mimsy were the borogoves,\\n', \"When you're chewing on life's gristle, don't grumble give a whistle\\n\", '  And the mome raths outgrabe.\\n', 'This will help things turn out for the best\\n', '\"Beware the Jabberwock, my son!\\n', 'Always look on the bright side of life\\n', '  The jaws that bite, the claws that catch!\\n', 'Always look on the right side of life\\n', 'Beware the Jubjub bird, and shun\\n', \"If life seems jolly rotten, there's something you've forgotten\\n\", '  The frumious Bandersnatch!\"\\n', \"And that's to laugh and smile and dance and sing\\n\", 'He took his vorpal sword in hand:\\n', \"When you're feeling in the dumps, don't be silly, chumps\\n\", '  Long time the manxome foe he sought --\\n', \"Just purse your lips and whistle, that's the thing\\n\", 'So rested he by the Tumtum tree,\\n', 'So, always look on the bright side of death\\n', '  And stood awhile in thought.\\n', 'Just before you draw your terminal breath\\n', 'And, as in uffish thought he stood,\\n', \"Life's a counterfeit and when you look at it\\n\", '  The Jabberwock, with eyes of flame,\\n', \"Life's a laugh and death's the joke, it's true\\n\", 'Came whiffling through the tulgey wood,\\n', \"You see, it's all a show, keep them laughing as you go\\n\", '  And burbled as it came!\\n', 'Just remember the last laugh is on you\\n', 'One, two! One, two! And through and through\\n', 'Always look on the bright side of life\\n', '  The vorpal blade went snicker-snack!\\n', 'And always look on the right side of life\\n', 'He left it dead, and with its head\\n', 'Always look on the bright side of life\\n', '  He went galumphing back.\\n', 'And always look on the right side of life\\n']\n"
          ]
        }
      ]
    },
    {
      "cell_type": "markdown",
      "source": [
        "#<font color=blue>**P14.**</font> Store the content, close the file, and join ( ) the list"
      ],
      "metadata": {
        "id": "iupO8iI-ZYAe"
      }
    },
    {
      "cell_type": "code",
      "source": [
        "with open(\"rosalind_ini5_1157_3_dataset.txt\",\"r\") as data:\n",
        "\n",
        "  list_of_lines=data.readlines()\n",
        "\n",
        "print(list_of_lines)"
      ],
      "metadata": {
        "id": "8U5w2qOudDyp",
        "colab": {
          "base_uri": "https://localhost:8080/"
        },
        "outputId": "1135cd71-7fc5-4c63-b73d-afd217d236b5"
      },
      "execution_count": 86,
      "outputs": [
        {
          "output_type": "stream",
          "name": "stdout",
          "text": [
            "['`Twas brillig, and the slithy toves\\n', 'Some things in life are bad, they can really make you mad\\n', '  Did gyre and gimble in the wabe:\\n', 'Other things just make you swear and curse\\n', 'All mimsy were the borogoves,\\n', \"When you're chewing on life's gristle, don't grumble give a whistle\\n\", '  And the mome raths outgrabe.\\n', 'This will help things turn out for the best\\n', '\"Beware the Jabberwock, my son!\\n', 'Always look on the bright side of life\\n', '  The jaws that bite, the claws that catch!\\n', 'Always look on the right side of life\\n', 'Beware the Jubjub bird, and shun\\n', \"If life seems jolly rotten, there's something you've forgotten\\n\", '  The frumious Bandersnatch!\"\\n', \"And that's to laugh and smile and dance and sing\\n\", 'He took his vorpal sword in hand:\\n', \"When you're feeling in the dumps, don't be silly, chumps\\n\", '  Long time the manxome foe he sought --\\n', \"Just purse your lips and whistle, that's the thing\\n\", 'So rested he by the Tumtum tree,\\n', 'So, always look on the bright side of death\\n', '  And stood awhile in thought.\\n', 'Just before you draw your terminal breath\\n', 'And, as in uffish thought he stood,\\n', \"Life's a counterfeit and when you look at it\\n\", '  The Jabberwock, with eyes of flame,\\n', \"Life's a laugh and death's the joke, it's true\\n\", 'Came whiffling through the tulgey wood,\\n', \"You see, it's all a show, keep them laughing as you go\\n\", '  And burbled as it came!\\n', 'Just remember the last laugh is on you\\n', 'One, two! One, two! And through and through\\n', 'Always look on the bright side of life\\n', '  The vorpal blade went snicker-snack!\\n', 'And always look on the right side of life\\n', 'He left it dead, and with its head\\n', 'Always look on the bright side of life\\n', '  He went galumphing back.\\n', 'And always look on the right side of life\\n']\n"
          ]
        }
      ]
    },
    {
      "cell_type": "markdown",
      "source": [
        "####**TASK P14.1** Read practice.txt into a list of lines. Then, after the file is closed, use the join ( ) function to print the contents so it looks like the original input."
      ],
      "metadata": {
        "id": "5pPhGmQYiiKx"
      }
    },
    {
      "cell_type": "code",
      "source": [
        "\n",
        "with open(\"rosalind_ini5_1157_3_dataset.txt\",\"r\") as data:\n",
        "    list_of_lines = data.readlines()   # store lines in a list\n",
        "\n",
        "\n",
        "# Use join() with \"_\" as the separator\n",
        "print(\"_\".join(list_of_lines))\n"
      ],
      "metadata": {
        "id": "XLvFZ9uSeyYH",
        "colab": {
          "base_uri": "https://localhost:8080/"
        },
        "outputId": "70bba4ee-37ca-40e0-aad9-1263f0407e07"
      },
      "execution_count": 84,
      "outputs": [
        {
          "output_type": "stream",
          "name": "stdout",
          "text": [
            "`Twas brillig, and the slithy toves\n",
            "_Some things in life are bad, they can really make you mad\n",
            "_  Did gyre and gimble in the wabe:\n",
            "_Other things just make you swear and curse\n",
            "_All mimsy were the borogoves,\n",
            "_When you're chewing on life's gristle, don't grumble give a whistle\n",
            "_  And the mome raths outgrabe.\n",
            "_This will help things turn out for the best\n",
            "_\"Beware the Jabberwock, my son!\n",
            "_Always look on the bright side of life\n",
            "_  The jaws that bite, the claws that catch!\n",
            "_Always look on the right side of life\n",
            "_Beware the Jubjub bird, and shun\n",
            "_If life seems jolly rotten, there's something you've forgotten\n",
            "_  The frumious Bandersnatch!\"\n",
            "_And that's to laugh and smile and dance and sing\n",
            "_He took his vorpal sword in hand:\n",
            "_When you're feeling in the dumps, don't be silly, chumps\n",
            "_  Long time the manxome foe he sought --\n",
            "_Just purse your lips and whistle, that's the thing\n",
            "_So rested he by the Tumtum tree,\n",
            "_So, always look on the bright side of death\n",
            "_  And stood awhile in thought.\n",
            "_Just before you draw your terminal breath\n",
            "_And, as in uffish thought he stood,\n",
            "_Life's a counterfeit and when you look at it\n",
            "_  The Jabberwock, with eyes of flame,\n",
            "_Life's a laugh and death's the joke, it's true\n",
            "_Came whiffling through the tulgey wood,\n",
            "_You see, it's all a show, keep them laughing as you go\n",
            "_  And burbled as it came!\n",
            "_Just remember the last laugh is on you\n",
            "_One, two! One, two! And through and through\n",
            "_Always look on the bright side of life\n",
            "_  The vorpal blade went snicker-snack!\n",
            "_And always look on the right side of life\n",
            "_He left it dead, and with its head\n",
            "_Always look on the bright side of life\n",
            "_  He went galumphing back.\n",
            "_And always look on the right side of life\n",
            "\n"
          ]
        }
      ]
    },
    {
      "cell_type": "markdown",
      "source": [
        "#<font color=blue>**P15.**</font> Combining for loops with file objects"
      ],
      "metadata": {
        "id": "lY924yM0jckW"
      }
    },
    {
      "cell_type": "markdown",
      "source": [
        "####**TASK P15.1** Use a for loop to print each line in practice.txt"
      ],
      "metadata": {
        "id": "NvqGEl4JjpiO"
      }
    },
    {
      "cell_type": "code",
      "source": [
        "with open(\"rosalind_ini5_1157_3_dataset.txt\",\"r\") as data:\n",
        "\n",
        "  for line in data:\n",
        "    print (line)"
      ],
      "metadata": {
        "id": "snY-10pUkMby",
        "colab": {
          "base_uri": "https://localhost:8080/"
        },
        "outputId": "02b2c10a-74c6-4275-a619-29f16029efd5"
      },
      "execution_count": 88,
      "outputs": [
        {
          "output_type": "stream",
          "name": "stdout",
          "text": [
            "`Twas brillig, and the slithy toves\n",
            "\n",
            "Some things in life are bad, they can really make you mad\n",
            "\n",
            "  Did gyre and gimble in the wabe:\n",
            "\n",
            "Other things just make you swear and curse\n",
            "\n",
            "All mimsy were the borogoves,\n",
            "\n",
            "When you're chewing on life's gristle, don't grumble give a whistle\n",
            "\n",
            "  And the mome raths outgrabe.\n",
            "\n",
            "This will help things turn out for the best\n",
            "\n",
            "\"Beware the Jabberwock, my son!\n",
            "\n",
            "Always look on the bright side of life\n",
            "\n",
            "  The jaws that bite, the claws that catch!\n",
            "\n",
            "Always look on the right side of life\n",
            "\n",
            "Beware the Jubjub bird, and shun\n",
            "\n",
            "If life seems jolly rotten, there's something you've forgotten\n",
            "\n",
            "  The frumious Bandersnatch!\"\n",
            "\n",
            "And that's to laugh and smile and dance and sing\n",
            "\n",
            "He took his vorpal sword in hand:\n",
            "\n",
            "When you're feeling in the dumps, don't be silly, chumps\n",
            "\n",
            "  Long time the manxome foe he sought --\n",
            "\n",
            "Just purse your lips and whistle, that's the thing\n",
            "\n",
            "So rested he by the Tumtum tree,\n",
            "\n",
            "So, always look on the bright side of death\n",
            "\n",
            "  And stood awhile in thought.\n",
            "\n",
            "Just before you draw your terminal breath\n",
            "\n",
            "And, as in uffish thought he stood,\n",
            "\n",
            "Life's a counterfeit and when you look at it\n",
            "\n",
            "  The Jabberwock, with eyes of flame,\n",
            "\n",
            "Life's a laugh and death's the joke, it's true\n",
            "\n",
            "Came whiffling through the tulgey wood,\n",
            "\n",
            "You see, it's all a show, keep them laughing as you go\n",
            "\n",
            "  And burbled as it came!\n",
            "\n",
            "Just remember the last laugh is on you\n",
            "\n",
            "One, two! One, two! And through and through\n",
            "\n",
            "Always look on the bright side of life\n",
            "\n",
            "  The vorpal blade went snicker-snack!\n",
            "\n",
            "And always look on the right side of life\n",
            "\n",
            "He left it dead, and with its head\n",
            "\n",
            "Always look on the bright side of life\n",
            "\n",
            "  He went galumphing back.\n",
            "\n",
            "And always look on the right side of life\n",
            "\n"
          ]
        }
      ]
    },
    {
      "cell_type": "markdown",
      "source": [
        "####**TASK P15.2** <font color=orange>**Complete Rosalind Problem #4 Working with Files**</font>\n"
      ],
      "metadata": {
        "id": "DHzE7CI4lWGw"
      }
    },
    {
      "cell_type": "code",
      "source": [
        "# Rosalind Problem #4\n",
        "with open(\"rosalind_ini5_1157_3_dataset.txt\", \"r\") as infile:\n",
        "    lines = infile.readlines()\n",
        "\n",
        "\n",
        "even_lines = [line for idx, line in enumerate(lines, start=1) if idx % 2 == 0]\n",
        "\n",
        "\n",
        "output = \"\".join(even_lines)\n",
        "output[:500]\n"
      ],
      "metadata": {
        "id": "8QR9dRFtltBN",
        "colab": {
          "base_uri": "https://localhost:8080/",
          "height": 104
        },
        "outputId": "904e6fe5-e4c6-4b40-a045-3b3e66e24db2"
      },
      "execution_count": 92,
      "outputs": [
        {
          "output_type": "execute_result",
          "data": {
            "text/plain": [
              "\"Some things in life are bad, they can really make you mad\\nOther things just make you swear and curse\\nWhen you're chewing on life's gristle, don't grumble give a whistle\\nThis will help things turn out for the best\\nAlways look on the bright side of life\\nAlways look on the right side of life\\nIf life seems jolly rotten, there's something you've forgotten\\nAnd that's to laugh and smile and dance and sing\\nWhen you're feeling in the dumps, don't be silly, chumps\\nJust purse your lips and whistle, that's \""
            ],
            "application/vnd.google.colaboratory.intrinsic+json": {
              "type": "string"
            }
          },
          "metadata": {},
          "execution_count": 92
        }
      ]
    },
    {
      "cell_type": "markdown",
      "source": [
        "####**<font color=crimson>TASK 15.4 Commit to GitHub**</font>"
      ],
      "metadata": {
        "id": "GJ_acW4WlwDn"
      }
    },
    {
      "cell_type": "markdown",
      "source": [
        "#<font color=blue>**P16.**</font> ```for word in line.split()``` – looping over strings and splitting by any delimiter"
      ],
      "metadata": {
        "id": "WD5wnvQkmh6E"
      }
    },
    {
      "cell_type": "markdown",
      "source": [
        "####**TASK P16.1** Print each word in the ROSALIND Problem #5 Sample Dataset on a separate line.\n"
      ],
      "metadata": {
        "id": "kApNvgOLn8lp"
      }
    },
    {
      "cell_type": "code",
      "source": [
        "with open(\"rosalind_ini6_1157_1_dataset.txt\",\"r\") as data:\n",
        "\n",
        "  line=data.read()\n",
        "\n",
        "for word in line.split():\n",
        "    print (word)"
      ],
      "metadata": {
        "colab": {
          "base_uri": "https://localhost:8080/"
        },
        "id": "PBjyhwclpKoM",
        "outputId": "9dbabdda-eeee-4dda-e6a6-2a4352012767"
      },
      "execution_count": 94,
      "outputs": [
        {
          "output_type": "stream",
          "name": "stdout",
          "text": [
            "When\n",
            "I\n",
            "find\n",
            "myself\n",
            "in\n",
            "times\n",
            "of\n",
            "trouble\n",
            "Mother\n",
            "Mary\n",
            "comes\n",
            "to\n",
            "me\n",
            "Speaking\n",
            "words\n",
            "of\n",
            "wisdom\n",
            "let\n",
            "it\n",
            "be\n",
            "And\n",
            "in\n",
            "my\n",
            "hour\n",
            "of\n",
            "darkness\n",
            "she\n",
            "is\n",
            "standing\n",
            "right\n",
            "in\n",
            "front\n",
            "of\n",
            "me\n",
            "Speaking\n",
            "words\n",
            "of\n",
            "wisdom\n",
            "let\n",
            "it\n",
            "be\n",
            "Let\n",
            "it\n",
            "be\n",
            "let\n",
            "it\n",
            "be\n",
            "let\n",
            "it\n",
            "be\n",
            "let\n",
            "it\n",
            "be\n",
            "Whisper\n",
            "words\n",
            "of\n",
            "wisdom\n",
            "let\n",
            "it\n",
            "be\n",
            "And\n",
            "when\n",
            "the\n",
            "broken\n",
            "hearted\n",
            "people\n",
            "living\n",
            "in\n",
            "the\n",
            "world\n",
            "agree\n",
            "There\n",
            "will\n",
            "be\n",
            "an\n",
            "answer\n",
            "let\n",
            "it\n",
            "be\n",
            "For\n",
            "though\n",
            "they\n",
            "may\n",
            "be\n",
            "parted\n",
            "there\n",
            "is\n",
            "still\n",
            "a\n",
            "chance\n",
            "that\n",
            "they\n",
            "will\n",
            "see\n",
            "There\n",
            "will\n",
            "be\n",
            "an\n",
            "answer\n",
            "let\n",
            "it\n",
            "be\n",
            "Let\n",
            "it\n",
            "be\n",
            "let\n",
            "it\n",
            "be\n",
            "let\n",
            "it\n",
            "be\n",
            "let\n",
            "it\n",
            "be\n",
            "There\n",
            "will\n",
            "be\n",
            "an\n",
            "answer\n",
            "let\n",
            "it\n",
            "be\n",
            "Let\n",
            "it\n",
            "be\n",
            "let\n",
            "it\n",
            "be\n",
            "let\n",
            "it\n",
            "be\n",
            "let\n",
            "it\n",
            "be\n",
            "Whisper\n",
            "words\n",
            "of\n",
            "wisdom\n",
            "let\n",
            "it\n",
            "be\n",
            "Let\n",
            "it\n",
            "be\n",
            "let\n",
            "it\n",
            "be\n",
            "let\n",
            "it\n",
            "be\n",
            "let\n",
            "it\n",
            "be\n",
            "Whisper\n",
            "words\n",
            "of\n",
            "wisdom\n",
            "let\n",
            "it\n",
            "be\n",
            "And\n",
            "when\n",
            "the\n",
            "night\n",
            "is\n",
            "cloudy\n",
            "there\n",
            "is\n",
            "still\n",
            "a\n",
            "light\n",
            "that\n",
            "shines\n",
            "on\n",
            "me\n",
            "Shine\n",
            "until\n",
            "tomorrow\n",
            "let\n",
            "it\n",
            "be\n",
            "I\n",
            "wake\n",
            "up\n",
            "to\n",
            "the\n",
            "sound\n",
            "of\n",
            "music\n",
            "Mother\n",
            "Mary\n",
            "comes\n",
            "to\n",
            "me\n",
            "Speaking\n",
            "words\n",
            "of\n",
            "wisdom\n",
            "let\n",
            "it\n",
            "be\n",
            "Let\n",
            "it\n",
            "be\n",
            "let\n",
            "it\n",
            "be\n",
            "let\n",
            "it\n",
            "be\n",
            "yeah\n",
            "let\n",
            "it\n",
            "be\n",
            "There\n",
            "will\n",
            "be\n",
            "an\n",
            "answer\n",
            "let\n",
            "it\n",
            "be\n",
            "Let\n",
            "it\n",
            "be\n",
            "let\n",
            "it\n",
            "be\n",
            "let\n",
            "it\n",
            "be\n",
            "yeah\n",
            "let\n",
            "it\n",
            "be\n",
            "Whisper\n",
            "words\n",
            "of\n",
            "wisdom\n",
            "let\n",
            "it\n",
            "be\n"
          ]
        }
      ]
    },
    {
      "cell_type": "markdown",
      "source": [
        "#<font color=blue>**P17.**</font> Python Dictionaries { }"
      ],
      "metadata": {
        "id": "kq9QbEttnA4h"
      }
    },
    {
      "cell_type": "markdown",
      "source": [
        "####**TASK 17.1** Create and print your first dictionary"
      ],
      "metadata": {
        "id": "lVudFQkZqJgh"
      }
    },
    {
      "cell_type": "code",
      "source": [
        "sequences = {\n",
        "    \"H.neandertalensis\":\"ACGTCGCTCTGCTA\",\n",
        "    \"H.sapiens\":\"ACGTCACTCTGCTA\"\n",
        "    }\n",
        "\n",
        "print (sequences)"
      ],
      "metadata": {
        "colab": {
          "base_uri": "https://localhost:8080/"
        },
        "id": "IzKFWDlgq6zo",
        "outputId": "5e417ee4-4a69-407c-ffd8-2229c8efd119"
      },
      "execution_count": 95,
      "outputs": [
        {
          "output_type": "stream",
          "name": "stdout",
          "text": [
            "{'H.neandertalensis': 'ACGTCGCTCTGCTA', 'H.sapiens': 'ACGTCACTCTGCTA'}\n"
          ]
        }
      ]
    },
    {
      "cell_type": "markdown",
      "source": [
        "#<font color=blue>**P18.**</font> Manipulating and printing dictionaries"
      ],
      "metadata": {
        "id": "OvqoT6UwnK0g"
      }
    },
    {
      "cell_type": "markdown",
      "source": [
        "####**TASK 18.1** Modify line 8 to create a fasta file of the hominid sequences"
      ],
      "metadata": {
        "id": "5Be2tcQRrjso"
      }
    },
    {
      "cell_type": "code",
      "source": [
        "sequences[\"P.troglodytes\"]=\"ACGTCACTCTCCTA\"\n",
        "\n",
        "sequences.update({\"G.gorilla\":\"ACGTCCTCCTA\", \"H.erectus\":\"ACGTCACTCTGCTA\"})\n",
        "\n",
        "print (sequences[\"H.sapiens\"])\n",
        "\n",
        "for key,value in sequences.items():\n",
        "     print (key,value)"
      ],
      "metadata": {
        "colab": {
          "base_uri": "https://localhost:8080/"
        },
        "id": "b-2XDof4rtP8",
        "outputId": "0c8f61b3-e029-47ba-a392-657f4a0cdfad"
      },
      "execution_count": 97,
      "outputs": [
        {
          "output_type": "stream",
          "name": "stdout",
          "text": [
            "ACGTCACTCTGCTA\n",
            "H.neandertalensis ACGTCGCTCTGCTA\n",
            "H.sapiens ACGTCACTCTGCTA\n",
            "P.troglodytes ACGTCACTCTCCTA\n",
            "G.gorilla ACGTCCTCCTA\n",
            "H.erectus ACGTCACTCTGCTA\n"
          ]
        }
      ]
    },
    {
      "cell_type": "markdown",
      "source": [
        "####**TASK P18.2** <font color= orange>**Complete Rosalind Problem #5  Dictionaries**</font>"
      ],
      "metadata": {
        "id": "Y98OZYUNvmWD"
      }
    },
    {
      "cell_type": "code",
      "source": [
        "# Rosalind Problem #5\n",
        "with open(\"rosalind_ini6_1157_1_dataset.txt\", \"r\") as f:\n",
        "    text = f.read().strip()\n",
        "\n",
        "# Split into words\n",
        "words = text.split()\n",
        "\n",
        "# Count occurrences using a dictionary\n",
        "word_count = {}\n",
        "for word in words:\n",
        "    word_count[word] = word_count.get(word, 0) + 1\n",
        "\n",
        "# Print results\n",
        "for word, count in word_count.items():\n",
        "    print(word, count)\n"
      ],
      "metadata": {
        "id": "lD3KoTY9wWa7",
        "colab": {
          "base_uri": "https://localhost:8080/"
        },
        "outputId": "17af8db9-9be8-4b33-95f6-a5fe6065d10e"
      },
      "execution_count": 98,
      "outputs": [
        {
          "output_type": "stream",
          "name": "stdout",
          "text": [
            "When 1\n",
            "I 2\n",
            "find 1\n",
            "myself 1\n",
            "in 4\n",
            "times 1\n",
            "of 11\n",
            "trouble 1\n",
            "Mother 2\n",
            "Mary 2\n",
            "comes 2\n",
            "to 3\n",
            "me 4\n",
            "Speaking 3\n",
            "words 7\n",
            "wisdom 7\n",
            "let 30\n",
            "it 36\n",
            "be 41\n",
            "And 3\n",
            "my 1\n",
            "hour 1\n",
            "darkness 1\n",
            "she 1\n",
            "is 4\n",
            "standing 1\n",
            "right 1\n",
            "front 1\n",
            "Let 6\n",
            "Whisper 4\n",
            "when 2\n",
            "the 4\n",
            "broken 1\n",
            "hearted 1\n",
            "people 1\n",
            "living 1\n",
            "world 1\n",
            "agree 1\n",
            "There 4\n",
            "will 5\n",
            "an 4\n",
            "answer 4\n",
            "For 1\n",
            "though 1\n",
            "they 2\n",
            "may 1\n",
            "parted 1\n",
            "there 2\n",
            "still 2\n",
            "a 2\n",
            "chance 1\n",
            "that 2\n",
            "see 1\n",
            "night 1\n",
            "cloudy 1\n",
            "light 1\n",
            "shines 1\n",
            "on 1\n",
            "Shine 1\n",
            "until 1\n",
            "tomorrow 1\n",
            "wake 1\n",
            "up 1\n",
            "sound 1\n",
            "music 1\n",
            "yeah 2\n"
          ]
        }
      ]
    },
    {
      "cell_type": "markdown",
      "source": [
        "####**<font color=crimson>TASK 18.3 Commit to GitHub**</font>"
      ],
      "metadata": {
        "id": "1dJdfy4bwVO4"
      }
    },
    {
      "cell_type": "markdown",
      "source": [
        "#<font color=blue>**P19.**</font> ```count()``` – counting things made easy"
      ],
      "metadata": {
        "id": "28ygQlYJnZoA"
      }
    },
    {
      "cell_type": "markdown",
      "source": [
        "####**TASK P19.1** <font color= orange>**Complete Rosalind Problem #6  Counting DNA Nucleotides**</font>"
      ],
      "metadata": {
        "id": "CZ9tBWDmw4D-"
      }
    },
    {
      "cell_type": "code",
      "source": [
        "#  Rosalind Problem #6\n",
        "with open(\"rosalind_dna_1157_4_dataset.txt\", \"r\") as f:\n",
        "    dna = f.read().strip()\n",
        "\n",
        "# Count occurrences of A, C, G, T\n",
        "a_count = dna.count(\"A\")\n",
        "c_count = dna.count(\"C\")\n",
        "g_count = dna.count(\"G\")\n",
        "t_count = dna.count(\"T\")\n",
        "\n",
        "result = f\"{a_count} {c_count} {g_count} {t_count}\"\n",
        "result\n"
      ],
      "metadata": {
        "id": "GlwS14zGxBIC",
        "colab": {
          "base_uri": "https://localhost:8080/",
          "height": 35
        },
        "outputId": "e878d409-6c5c-44aa-8940-0d2c6d56f300"
      },
      "execution_count": 101,
      "outputs": [
        {
          "output_type": "execute_result",
          "data": {
            "text/plain": [
              "'221 227 253 256'"
            ],
            "application/vnd.google.colaboratory.intrinsic+json": {
              "type": "string"
            }
          },
          "metadata": {},
          "execution_count": 101
        }
      ]
    },
    {
      "cell_type": "markdown",
      "source": [
        "####**TASK P19.2** Modify your code for the Rosalind #5 Dictionary problem so that it uses count( ) to count the words."
      ],
      "metadata": {
        "id": "rj-OWB6Jym5y"
      }
    },
    {
      "cell_type": "code",
      "source": [
        "#  Count word occurrences using count()\n",
        "\n",
        "with open(\"rosalind_ini6_1157_1_dataset.txt\", \"r\") as f:\n",
        "    text = f.read().strip()\n",
        "\n",
        "words = text.split()\n",
        "\n",
        "# Get unique words\n",
        "unique_words = set(words)\n",
        "\n",
        "# Use count() for each unique word\n",
        "for word in unique_words:\n",
        "    print(word, words.count(word))\n"
      ],
      "metadata": {
        "id": "9H_S6jLnzfxR",
        "colab": {
          "base_uri": "https://localhost:8080/"
        },
        "outputId": "a0cd37be-eee2-46a2-b1d2-a2aa531c74a1"
      },
      "execution_count": 102,
      "outputs": [
        {
          "output_type": "stream",
          "name": "stdout",
          "text": [
            "yeah 2\n",
            "wisdom 7\n",
            "Let 6\n",
            "music 1\n",
            "Mother 2\n",
            "until 1\n",
            "standing 1\n",
            "be 41\n",
            "my 1\n",
            "right 1\n",
            "comes 2\n",
            "is 4\n",
            "there 2\n",
            "living 1\n",
            "tomorrow 1\n",
            "answer 4\n",
            "Shine 1\n",
            "in 4\n",
            "may 1\n",
            "a 2\n",
            "hearted 1\n",
            "world 1\n",
            "front 1\n",
            "shines 1\n",
            "cloudy 1\n",
            "me 4\n",
            "There 4\n",
            "it 36\n",
            "though 1\n",
            "an 4\n",
            "darkness 1\n",
            "agree 1\n",
            "wake 1\n",
            "myself 1\n",
            "when 2\n",
            "parted 1\n",
            "Mary 2\n",
            "For 1\n",
            "Speaking 3\n",
            "she 1\n",
            "the 4\n",
            "they 2\n",
            "still 2\n",
            "light 1\n",
            "times 1\n",
            "trouble 1\n",
            "on 1\n",
            "words 7\n",
            "night 1\n",
            "Whisper 4\n",
            "will 5\n",
            "see 1\n",
            "sound 1\n",
            "find 1\n",
            "I 2\n",
            "And 3\n",
            "people 1\n",
            "broken 1\n",
            "to 3\n",
            "hour 1\n",
            "chance 1\n",
            "up 1\n",
            "that 2\n",
            "When 1\n",
            "of 11\n",
            "let 30\n"
          ]
        }
      ]
    },
    {
      "cell_type": "markdown",
      "source": [
        "####**<font color=crimson>TASK 19.3 Commit to GitHub**</font>\n"
      ],
      "metadata": {
        "id": "RzMon_wAzg7D"
      }
    },
    {
      "cell_type": "markdown",
      "source": [
        "#<font color=blue>**P20.**</font> Installing biopython"
      ],
      "metadata": {
        "id": "-IB0c2gG0Z1O"
      }
    },
    {
      "cell_type": "code",
      "source": [
        "!pip install biopython"
      ],
      "metadata": {
        "colab": {
          "base_uri": "https://localhost:8080/"
        },
        "id": "pinPQdEn0mJM",
        "outputId": "f8f6bd9e-bd16-4802-b736-2ec3ee9c9d91"
      },
      "execution_count": 99,
      "outputs": [
        {
          "output_type": "stream",
          "name": "stdout",
          "text": [
            "Collecting biopython\n",
            "  Downloading biopython-1.85-cp312-cp312-manylinux_2_17_x86_64.manylinux2014_x86_64.whl.metadata (13 kB)\n",
            "Requirement already satisfied: numpy in /usr/local/lib/python3.12/dist-packages (from biopython) (2.0.2)\n",
            "Downloading biopython-1.85-cp312-cp312-manylinux_2_17_x86_64.manylinux2014_x86_64.whl (3.3 MB)\n",
            "\u001b[2K   \u001b[90m━━━━━━━━━━━━━━━━━━━━━━━━━━━━━━━━━━━━━━━━\u001b[0m \u001b[32m3.3/3.3 MB\u001b[0m \u001b[31m41.1 MB/s\u001b[0m eta \u001b[36m0:00:00\u001b[0m\n",
            "\u001b[?25hInstalling collected packages: biopython\n",
            "Successfully installed biopython-1.85\n"
          ]
        }
      ]
    },
    {
      "cell_type": "code",
      "metadata": {
        "colab": {
          "base_uri": "https://localhost:8080/"
        },
        "id": "5ccd6f0b",
        "outputId": "937f703c-748c-4dcd-9a05-bc9eb8f1ec40"
      },
      "source": [
        "try:\n",
        "  from Bio.Seq import Seq\n",
        "  print(\"Biopython is installed correctly.\")\n",
        "except ImportError:\n",
        "  print(\"Biopython is not installed or there was an import error.\")"
      ],
      "execution_count": 103,
      "outputs": [
        {
          "output_type": "stream",
          "name": "stdout",
          "text": [
            "Biopython is installed correctly.\n"
          ]
        }
      ]
    },
    {
      "cell_type": "markdown",
      "source": [
        "#<font color=blue>**P21.**</font> Seq( ) – a function to define sequence objects"
      ],
      "metadata": {
        "id": "IGX-ThdQ3RuA"
      }
    },
    {
      "cell_type": "code",
      "source": [
        "from Bio.Seq import Seq\n",
        "\n",
        "my_sequence = Seq(\"GATGGAACTTGACTACGTAAATT\")"
      ],
      "metadata": {
        "id": "ltZBr8mE4OhM"
      },
      "execution_count": 104,
      "outputs": []
    },
    {
      "cell_type": "markdown",
      "source": [
        "####**TASK BP21.2** <font color=orange> **Complete Rosalind #7 Transcribing DNA into RNA**</font>"
      ],
      "metadata": {
        "id": "UXCuEFxg6Jxx"
      }
    },
    {
      "cell_type": "code",
      "source": [
        "# Rosalind #7 Transcribing DNA into RNA\n",
        "with open(\"rosalind_rna_1157_2_dataset.txt\", \"r\") as f:\n",
        "    dna = f.read().strip()\n",
        "\n",
        "# Transcribe DNA to RNA by replacing 'T' with 'U'\n",
        "rna = dna.replace(\"T\", \"U\")\n",
        "rna[:500]\n"
      ],
      "metadata": {
        "id": "UXt6gWLM6qde",
        "colab": {
          "base_uri": "https://localhost:8080/",
          "height": 104
        },
        "outputId": "4ae2d134-c678-442b-f7dd-3c398aa65737"
      },
      "execution_count": 105,
      "outputs": [
        {
          "output_type": "execute_result",
          "data": {
            "text/plain": [
              "'CGCCGACUCGUUGUAAUAUGGGUAAUCAGGUCGGUACUCGCAGUGAAUUGCGGCCAUUGUACUUAGAGCUAGGUCCAGUCAUGUCGUGAUUUCUAGUAUCCUCCACGCGUUUCAAGCCUUACUCAAACGAUUGUGCUUGUUUGCAUCGAGACGACUACAGAACGGGCCAAUUUUCUUUACGUGUUGGGUUUAUGCUCUUAUUACCGCCUGUGAACACCAAUGCACCCCGGUUUGAAGGCGUCACGAUGCAAACUGUUCCCGUCGCCUGGGCAGGUUAAUUUUCUCUGCGGGUCCCCAGGAUUCUCGACCUAUAUCCAUCAACUGGCGCCCGCUUACGCCCCACUUCACUAUCUACAGCUCAGCACAGAGCUGAAACAGCUUAUAAAGUACAUUGCUGGUAAUCAACGUUAGCUGUUCCGAACCUCCCUUGCAAGUGGCGUCGUAAAAGUCAGCGUCCAUCGACCCGAGUGAUUGGGGGCAGCUCGGACGUAAAAUACUGA'"
            ],
            "application/vnd.google.colaboratory.intrinsic+json": {
              "type": "string"
            }
          },
          "metadata": {},
          "execution_count": 105
        }
      ]
    },
    {
      "cell_type": "markdown",
      "source": [
        "####**TASK BP21.2** <font color=orange> **Complete Rosalind #8  Translating RNA into Protein**</font>"
      ],
      "metadata": {
        "id": "9P4_MaXp6O3n"
      }
    },
    {
      "cell_type": "code",
      "source": [
        "# Rosalind #8 Translating RNA into Protein\n",
        "rna_codon_table = {\n",
        "    'UUU':'F', 'CUU':'L', 'AUU':'I', 'GUU':'V',\n",
        "    'UUC':'F', 'CUC':'L', 'AUC':'I', 'GUC':'V',\n",
        "    'UUA':'L', 'CUA':'L', 'AUA':'I', 'GUA':'V',\n",
        "    'UUG':'L', 'CUG':'L', 'AUG':'M', 'GUG':'V',\n",
        "    'UCU':'S', 'CCU':'P', 'ACU':'T', 'GCU':'A',\n",
        "    'UCC':'S', 'CCC':'P', 'ACC':'T', 'GCC':'A',\n",
        "    'UCA':'S', 'CCA':'P', 'ACA':'T', 'GCA':'A',\n",
        "    'UCG':'S', 'CCG':'P', 'ACG':'T', 'GCG':'A',\n",
        "    'UAU':'Y', 'CAU':'H', 'AAU':'N', 'GAU':'D',\n",
        "    'UAC':'Y', 'CAC':'H', 'AAC':'N', 'GAC':'D',\n",
        "    'UAA':'Stop', 'CAA':'Q', 'AAA':'K', 'GAA':'E',\n",
        "    'UAG':'Stop', 'CAG':'Q', 'AAG':'K', 'GAG':'E',\n",
        "    'UGU':'C', 'CGU':'R', 'AGU':'S', 'GGU':'G',\n",
        "    'UGC':'C', 'CGC':'R', 'AGC':'S', 'GGC':'G',\n",
        "    'UGA':'Stop', 'CGA':'R', 'AGA':'R', 'GGA':'G',\n",
        "    'UGG':'W', 'CGG':'R', 'AGG':'R', 'GGG':'G'\n",
        "}\n",
        "\n",
        "# Read the RNA string dataset\n",
        "with open(\"rosalind_prot_1157_1_dataset.txt\", \"r\") as f:\n",
        "    rna = f.read().strip()\n",
        "\n",
        "# Translate RNA string into protein\n",
        "protein = []\n",
        "for i in range(0, len(rna), 3):\n",
        "    codon = rna[i:i+3]\n",
        "    if rna_codon_table.get(codon) == 'Stop':\n",
        "        break\n",
        "    protein.append(rna_codon_table.get(codon, ''))\n",
        "\n",
        "protein_string = \"\".join(protein)\n",
        "protein_string[:500]\n"
      ],
      "metadata": {
        "id": "5Rzzfzij6q2P",
        "colab": {
          "base_uri": "https://localhost:8080/",
          "height": 104
        },
        "outputId": "e6122ec0-745f-4241-cfea-515ad22ec475"
      },
      "execution_count": 107,
      "outputs": [
        {
          "output_type": "execute_result",
          "data": {
            "text/plain": [
              "'MQHESITNSNCPASYHWLQPPNGYIFVYTHSPLRRTEQLTQPYSATGCVIGPPKLTHSSIRLCCPTVRRHIGKLSSNRLRHHAGRASCATPSLQITKTYNWRPASLGLPRRYVSPLYVSPCRRGAQRICPISTVILDPAKGHDYKIRDCLTMLLAKRTPKLDGRYSKTILSVEAPPGLASGLPVPRVEKFQVRRRNSPQLPKLTMVRLVMNSSALDKGYVLIPLGMLQPEDKPCVDSNTGRYAGSRKVIVLPQSIQKKSSYSFMHITLPSGRSDMIASRLECSTRAGRVSVTNRPEHQVVRHTTSDEWFTSRGVQLRTHRAAKVSPTGPSLGRLLQLGKLRIPTSSSEERLHSLLHMQSGVPRTVPPDKKRVERKNSLGTPPEATSWNFRLFETPIVETPLSTWAISCSRCARKSHHNVLSTIHLYRWLTRNRRTLGDAWCTLTEGLPFPSMLFRPRVPNKFRRVAHGARRTVACSRVRFNGSYLEVIGLSVVFTTILSL'"
            ],
            "application/vnd.google.colaboratory.intrinsic+json": {
              "type": "string"
            }
          },
          "metadata": {},
          "execution_count": 107
        }
      ]
    },
    {
      "cell_type": "markdown",
      "source": [
        "####**<font color=crimson>TASK 21.3 Commit to GitHub**</font>"
      ],
      "metadata": {
        "id": "dvtR4N7L6sZ_"
      }
    },
    {
      "cell_type": "markdown",
      "source": [
        "#<font color=blue>**P22.**</font> SeqIO – a function to parse( ) sequence files"
      ],
      "metadata": {
        "id": "bDJqtRiX3fEG"
      }
    },
    {
      "cell_type": "markdown",
      "source": [
        "####**TASK BP 22.1** Read in the practice dataset from Rosalind #9 and print the id of each sequence in the file."
      ],
      "metadata": {
        "id": "VKyMhLjx7nIo"
      }
    },
    {
      "cell_type": "code",
      "source": [
        "from Bio.SeqIO import parse\n",
        "\n",
        "for seq_record in parse(\"/content/rosalind_gc_1157_1_dataset.txt\", \"fasta\"):\n",
        "    print (seq_record.id)\n",
        "    print (seq_record.seq)\n",
        "    print (len(seq_record.seq))\n",
        "    print (seq_record)"
      ],
      "metadata": {
        "colab": {
          "base_uri": "https://localhost:8080/"
        },
        "id": "xUi3JEoh7yJ6",
        "outputId": "4ea9763c-2ae4-40f0-a484-46edebcc0259"
      },
      "execution_count": 111,
      "outputs": [
        {
          "output_type": "stream",
          "name": "stdout",
          "text": [
            "Rosalind_1028\n",
            "GCAAAATTTAATACGATCGTAACTGGCAAAAGGGATTAACCGGCATCGTGCGTTTGTGAGTTTCTATGATACAATCGAACGAACGTTCCACCACAGGCTACGAGGACGGGTTCGGCGGACCCAGTTTGCAGTCCTACTCACTTAGTGAATACCGCGTCCAGCGCTAAGTTAGATATTACCCGGGTCACGGCCGTGCACCGGAGCAGATCATGGATTGACCTTGAGTCCAATTATCGGCTGACAATAAGCCATAACACAGATGCGTTTGAGCTGATAAGACAGGTTATGACAACAATTCAGAAACGCACTAGTCCTGCTTAATACAGAAGTGTACGATGAGACGAGTCTTAACGGATTGTGCGCAGAGAATTCTGGGTTTAAAGATTAGCGGTTAGCGAGGTGACCCCCGCCGAAAAAGGAACAACCTCTCGGCAGTCGAACCTTTGTACCCAGGAGGTTTTTCATGGAAATTGTGGCGCGTCTATCTCTGGAAGCAAATCGTCGCACGTTTCGAGGAGTCTGCCCGCTCGGCTCTTGGTAACCAATGCTATATGAAACTCCACCATTAACCATGAGGATGTGACCGTTGGTCTAGTGGTTATTTAGGTCCCCTGCAGGGACACATCGACAGACACAATTTCGAGATGACCTCGGTTCTTCTCAGGATCATTAGGACTAGTAATTTGAGGCCCCTGTGATACAAATATTCATATGTTGCAAAATCTCCGGGCATGGTGTAATCTCCGACATAGTTGCGCCTCTCCGGTCCGGTCCGGCAGACAACAGTTGGGATGATGTAGCTCCACTCGCAGCCTACCTCAGAGTCCTGGGCGGATATGCTCAATGTGGGTACAATCGCTTCGTGAAGTTGTGATTGCCGGGATACAGCTTTTTATCCAGTGAGCCTGTTTCCATTGCATAAC\n",
            "923\n",
            "ID: Rosalind_1028\n",
            "Name: Rosalind_1028\n",
            "Description: Rosalind_1028\n",
            "Number of features: 0\n",
            "Seq('GCAAAATTTAATACGATCGTAACTGGCAAAAGGGATTAACCGGCATCGTGCGTT...AAC')\n",
            "Rosalind_8032\n",
            "ACTATATTCGACGCTATGACCATCACTGAATAGACCATGCCTGAACTCGGAACACTCTCCCGATGATAACCGTTGCGGATTATTACCGTAGTGAATTAAGGATGATTCTAACTAAGTGTACATCAAAACTGGACGACATGAAGAGTTTTTAAATATGGTTTTCCCCTTAACATTCGTGACTATGGTGCGTGTTTAGTGATCGAATGGAACTGACGTTTTTCGTCTTCATACATAGGTAATGACGATGCTTGGTCTAGATCCTTCGGAACTCTGCGGGTATCAGATAAGTCTCTCTCTCGCCATGCACCATCACCATGTTATCACCTACCTTCTGTGATTCTTTTAACAGCACTGTGGGGCCCAGGCGTCGCTCTTACGAGCCGGAGATCCTTCCCGTGAATGATTACATCCCCAACAAGTATCATCTTGCAGGGTAATATTTAAAGTTACCCGCTAGGAAGCGAACCTAGAACGACAAGTACCAACAGCGCGCTTGGTTTCCCTGGGTGTACCCCCCCTTCCCGGACGGTCACGATGCATGGCCGATCGCGCCCTCGTCCGTATCCTAGTTAAGCGAGACCCGCCAGTAGTCTAAAACTGCACTCGGAACCGGACTACTAGTTTCGAGGTAATGTGTGAGACGATACGCCTTAATCGAAACACATGAGCATGCTGATGTCCTGGCCTTCGTGACTGGAGCCAATATCTTTTTACCAATGAACCCGTGTCATCCAAGAGCAGCAATCATAGGCCGGCTTCGTTCTGTGTACTGGTGCCTCGGTCTCGACCAATCGTGATGCCGAAGGCCATCGATGTTTTCGGTTCGGCCGCGAATAGAACATTAACTTAAGTATTATTGGCCCATACTGATCGGAATGGAGCTCCGTTAATTCTTCGTGGGAAGCGCTCAGAGTTCCTTAGTCTGTTAGA\n",
            "930\n",
            "ID: Rosalind_8032\n",
            "Name: Rosalind_8032\n",
            "Description: Rosalind_8032\n",
            "Number of features: 0\n",
            "Seq('ACTATATTCGACGCTATGACCATCACTGAATAGACCATGCCTGAACTCGGAACA...AGA')\n",
            "Rosalind_5068\n",
            "CAGAGCCGCCTCGCCGAACGGCAGGCAGAAGGAGTCCACACAAAATGTCACCGTTAGTAAAATCATCCTTGGGAGACCGCTAGCCTCTGCTGGGGAATAGCATACATTTATGATTGTCGTCCTTAGCAGAAGCAGTCGGATGCGTAAATGTCTAAATGAGGCGTGGTCGAGGCTGTGAGACTCCTTATATCGGTCCGTCCTTCAGCTTCAGTAAAGGTATTTCCGGCCTCCTTAAATGAAACTCAGTCTTACTACCTCTGTTGTGTTAGAGGTTTTCCCCAATATCTGTATAATTTAATAACAATGAAAAATAAAGGTCGCAGGTGGGTGCCTACTCTCAGCAGAATTTCCCTTGCCGTAAACCCCGGCAATGCGCTACGGTTAGTGCCGACTTCAAACACAGATGCGTGTAACGTGAGGAAGATCCAACCTGGCAACGCCTGCGACACGGTGTGCCACAAGAGAAGCCCCAAGCCGCAATGAGGGTTTGTACTTTCGAGACTGATGTGCGCAGTGGAGTACTAGGACCTACGACCCTCCGTAATGTCGATATGTCTTTTCCCTCTCAGCCTCCGAAACACGTGTCTATATTATAGAATGGACCATACCAACCAAGAGTAGGGCGGAGCTCCTGGTCCTCCGGTTTCAGGCGACCTATATACTATGCACTCACCGGGACCTACCTAGCCGAGCGACCGGGACGAACGTTCTCTCACGTAGCGCAGTAATCGGTAACGCTGAAGGGATATAGGGATGTGTTGAACGTGAAGAAGTATGCACAGCTTGTTACCCCAAGGGGCCTGAATTCACTACTAAGAGGCAGTTCGAGCCCTGCGCTCAGAAAGACGCCGGGACAAGTGGCAAGGCACGATGCCCGTTGGTAACTTTTTCAACTAGTTGACTTGGATCTACTGAGATCTCACCGCCTACATGAGGTACGTCATCTCCATAG\n",
            "952\n",
            "ID: Rosalind_5068\n",
            "Name: Rosalind_5068\n",
            "Description: Rosalind_5068\n",
            "Number of features: 0\n",
            "Seq('CAGAGCCGCCTCGCCGAACGGCAGGCAGAAGGAGTCCACACAAAATGTCACCGT...TAG')\n",
            "Rosalind_0846\n",
            "AGCAGTATGGCTTGCAGAAGTGCCTAACGTGGCGGCGTCAACGGACTTTCCCTATTCTCTGTCCATTTCCTCAAACCATCACCTGCTTCGTGGGCCATCTGCGTCACGACCGTGCTGATCTACTTTGAGCACTGGGGTGCTTGCGGGTTCATGGTCGGACTTCAACACATAATTCGCGGGGTTACACAGGAACGTCGAAAGCTGAACGTCAGAGATACTGATGTCTTGTTCGCATCACTTCACGACCCAGGGCTCTCTCCTTCTGCACCTATCTGAACGGTACCCTGATCTTAACTGAATGTCCTTCTAACTTTGTAGCCTGAGTTGGTGTTTTCCATTGACAACCAAACAAGGTGTCGCTGCGTATAAGGTCTCACCGGACGAAAGCCTGGCCACACCGCCTCATGTCCGCTAATTCTTCGAAGTTGCATAGGTTAGATTCCCTAGCGTGGAGCAATGCAATTATAACCTCTAATCATCTCAAGACTAAGTTGTCAGATCCTAAGCCACCACTAGGTGTGCCTTTACTTACTGGTTGGATTCAAGCGTCCATATGGGTCTTTATGTGCTAAATGTAACAGCCTCCTGGTGCGCCTAGAGGTTGAGCTAGGGGACTTACGGCGCTCAGACACATTCTACATATGGTGCTTTTTTGCGTCCAGCTACTGCTCCCCAGCACATGCGTTGTAAGGTGGAGGAATCGAGAGTATATAATACCACTTTAAGAGCAGCCGTAATAACAACGATAATGTAGGGTAGCCTTCCAATCGCGGGTACGCCGAGTGGCGCCATTAACAGGTCCGGGAAGGAAGTAAAGAAATATAACCTTACATTCACTGAGCCACCCCCTAACACATCCAATGATTTCTTGATTATGAAATCATTTGCCCCCTCTAAGATTAAAAGCTGCGAGTTATGTAAGCAAGACGTGGTGCACTCTCAACGAGGTACGCCGTGTCAAGGTCGCGATGCGGATACGGTTGCTCTGAGCCAGGCTATT\n",
            "1000\n",
            "ID: Rosalind_0846\n",
            "Name: Rosalind_0846\n",
            "Description: Rosalind_0846\n",
            "Number of features: 0\n",
            "Seq('AGCAGTATGGCTTGCAGAAGTGCCTAACGTGGCGGCGTCAACGGACTTTCCCTA...ATT')\n",
            "Rosalind_6078\n",
            "TCGGCGTTAGCTGACGGGAAGGCGCATCACCACGAGAGGGAATGATTGGAAAACGTCGTTGCTAGAAGCGCGGTGCGCTCACCCGACTATTGTAGCCTTAAGAAGGGAGGCTTGTGTGGGAATGGAGCTGGTTGAGTTACCACGTTTGCACACCCCGGTAGCACAGCGTAACCATGCGTATGGAAGCACCGTTCAGCCGGGGGCAATACGATGTCGCTGAAAAAAGGCATCTGTCGATAGATAAACACTTTACTAGCGATCTTAGGCCAGTAATCAGCATTTAGTCGGCGACCGCATGGATAAGTGGGAATACTGGGACACGTAGTGGCTTTCCAGCAAGAAACGGGATAATCGATACCATCTGAGACCCAAGACGGCGGTCCTGGCGCCTATGGGTGTTAATACTCTCGTGTCCAAGCGTCTCTCCTTCTGCTAGGACTGCCGCACAGGGTCCCCGTGGTCTTTAGGGAGACCAGGACAGTCAGGATACACGAAGAGACACCAGAGGCGGCTTTAGGCGAAACTGACGCGATCCGTATCGATTGCATCCCAGAACCATGGCAACTTCACACCTGCCGTACAGATGATCTCCACCATCTTAATTTAATCAGAGTCATCCGGCAATACCGGAGCACAATTCGTGGGCGCGCGTATATATCAATAGCTTCCCCTGCAGGGGCGAGTAGCACAGAACGAATAGGCACCAACTGGTAAAACACGTCTGATCGCGTCACACACTCATGATCTCATGGGTTGTCCCTCTATAGCAATTCTTCGAAATCCTGTTCCTAGCGGACTATGCGCCGAGAG\n",
            "810\n",
            "ID: Rosalind_6078\n",
            "Name: Rosalind_6078\n",
            "Description: Rosalind_6078\n",
            "Number of features: 0\n",
            "Seq('TCGGCGTTAGCTGACGGGAAGGCGCATCACCACGAGAGGGAATGATTGGAAAAC...GAG')\n",
            "Rosalind_2015\n",
            "CGCTTCACAGCAAGCCCGCGCAATGGTTTCAAACGCACAAAAATGCATCTCCTATTCGCGCCGTGTGAGGCGTGCAAAGTATCGGGAATCTGTCGCCACATCTATACGATTGAGTAGTATATGGAGACATGGCTCAGAGGAGCAAAACGGGAACGGCGGGGCCATGCAACGTAGAGGCTTCGTGTCTAATCTCAGGCAGTCTATCCCTCCCTAGCTAGGAGTAATTAGACGAAATACTTGAAGCCTGGATCCTTCCTGCTGCGGCTGGCATGGGTCAAATATACGATACGTGGTGATTGTTCGTCGTCAAGTTTCAACAGACCATTTGGTTGTATTCCGTGGAACGAGCTGACATTTTATCATAGATACACCATGCGTTGTGTTGCGGGTCCGTACGGTCTACCCGTCATTATAAGAGAGTGTGACTCATACAGTTGCTCAATAATCACATGGCTATTCAAGACATAGTAATTCTTCTCGCAATTTGACTCCCATAATACCCCCAGTGACGTGGCTAGGAGCCACCGCCGGCTCGACGGTATAAGCGAACCGTAGCTTCGCTAAAGCGGTCTTACGAAGATCAGACACATCTGAGCGGATCTGGCCCATCGGGCGGGCTTGAAAGTGGATTTAGGTGGGTGCGCCCCCTTGTCACACCACGCCAGAATGTTGATCCGGGACGTAAAGATCACGGGATTCGTATCGGGACGGACAGCATAAGGAAGTTCGAGGGGTTAACTGGTTGCAAACTACCCAGCATCCGGTTCCTAAAACCATGAACCCGACTCTCGTAAAATAGGTCAACAGAGTAGGATCGTGTAATTTAAGGGGCCGCATGTCGCCCTACCGCAGCTCAACGTGCGTCGATCCCCTAAGACTGGCCGCGAACGATAAGGCACAGGATCTCATGGCTTGCGCGAATGACCGTTGAGTAACCCTCTGGCGTAGTGGACTTACACATTACTTGGCTTATCACGGTGTATGTAGTGTTTATTCTCTA\n",
            "1000\n",
            "ID: Rosalind_2015\n",
            "Name: Rosalind_2015\n",
            "Description: Rosalind_2015\n",
            "Number of features: 0\n",
            "Seq('CGCTTCACAGCAAGCCCGCGCAATGGTTTCAAACGCACAAAAATGCATCTCCTA...CTA')\n",
            "Rosalind_3459\n",
            "ACCATTGTTCCGCACTGACATTATCGCTGGTTGGCTGGCAATGCCGGACCACGTCATACCGTAGTCGCGAACCCTACGGCGTAGGCAAGTGAGTCCTATACGAGCAGCGATTAGATACTTGGCATACGTTTAACCGCGGGCCCTAGCTATGCATGTCCTGTTGCCATGCCGCGTTGGACATTAGGGTCAGCCGTCAAGGGGACTTTACAGATGCACTTACATCTGTGCTTGTACATCGCTTTCCACCATCCGGCCTGTATTTGGGAGCATAAGTCAGCATAATTCGTCAAAATCCTAACTCAAGTTGTTTCCTGGTGCCCTCGAAACTTCCCTCGCGTTTCCCCATCTCCACCAATCGTGCTCCGTGGATCACCACCCTGCGATGGTGAGGGATAGATTGGACCGGCTCGTTCCCGAAATCGTTCCCTCGAGATACCCCTTGGGTCCACCCAAGTATGTTTAGTGTTTAAACTGCACTTAGGTGGTACGCACTGCCCTTATTATCCAGTTGCCAAGAGTGGGTGAAGCCTCAAACACATTGGAGTTCGAAGGCAGTGCCGTAGTCTCATCACCTGGTCTAGCATCAGTGTTCACCGGAGTTAAGACAGCCATCCAGACCGAGATCCACGGCGTACGGAGTAAGTGGTGCGGGAAGATATATATTTGTTGTGTATCTGGGTGAGAACAACGTGAACAAATCCACGCCGATGAGGTACGTGTCTAAAATCGTCCACATCCTCCTATATTTGATTCCGCTCGAAGTGCTGATCCCGCCGGGGCAGAACAGGGGTAGGGTGCGATTTCCCCTGAACCCAATCGCTGGCGTTGATCCT\n",
            "833\n",
            "ID: Rosalind_3459\n",
            "Name: Rosalind_3459\n",
            "Description: Rosalind_3459\n",
            "Number of features: 0\n",
            "Seq('ACCATTGTTCCGCACTGACATTATCGCTGGTTGGCTGGCAATGCCGGACCACGT...CCT')\n",
            "Rosalind_8394\n",
            "TAAATACAGGGCACACTTAATGCTATCGTAGCATCTCCTGTGTGACCCCCCACGCAGCATGGCTAAGTTGTAATGGTTCCGCCACCCCTTGCTGTTAAGCGGCACTTTGTGAGAAGAATTACGAGGCCGCTGTTTGCTTCTCATATTCGTTCACTCCACCCGGCTAAATATCAACCGGTCCGCCTTAGCATGATCACAGTCTATTATATTCTCAGAGCAATCGTTTTTCGGGTCCTGCGCGGGTTTCTGCGACACTGCGGCTATATGAGCCACGCGCTCATGGTTACAACAAGATATCGACCTCTCTCCTACAGTCTGTTGAGGCTTGGTTTCTCTAACCCGAACAGCGGGACTTTGCAGCCAGAGTGGACAGATGTTCCGTACCAGACTTGCGCCCACTCGTTCGAAATGCGATGAACACATAATGTCGTCGTTGCCAGTTTGAATAACTTCGATCGGCGGGCATATGATTATTAGGATAACTTGATGATTTATCGTAGTACCCCACGCAACAAAATGCTTGATTGGTGACAAGAGTGAAACGATTTGGCTATTTGGCTATAGTGCCCGATTATTTTCCTCAGGGGCACCGCGTCACTATACTCGCTTTGCGCAATATACTGGCCGCCGATCTGTTGGTGGCTCCCATGCATGCTACGCCCGGTCTTGACCAATTCTCTTATTATCAAGTTCAATCAATTTTCTCCATCTCGAACCATATTGAGAGATATTTACGGACAACGATACCTCACTGGCGCAATTAAGTTCTATAGAACATAGTCTGGCGCAATTCATCCATGGTA\n",
            "803\n",
            "ID: Rosalind_8394\n",
            "Name: Rosalind_8394\n",
            "Description: Rosalind_8394\n",
            "Number of features: 0\n",
            "Seq('TAAATACAGGGCACACTTAATGCTATCGTAGCATCTCCTGTGTGACCCCCCACG...GTA')\n",
            "Rosalind_9898\n",
            "CGTCCGAATAACCAGACCCTGCAGTATACCGGCTTCTGGGTCTATGCTATCCAAGGGTCGGTGCGTAAACCGCTCAAGAACGGTCCCGCTGAGTTACGCATTGGGCGGCCCCCTTAATCCCTCCTTCGACTAATTGAGAGGGCGATCAACTGGTCGCATGGGAACAATTTATGGGATAGTCGATGCGAGTCCAGCTAGGTACATGTTATGCTGGTCACAAATCCAATACAACAACGAGATATATAATTGCGCTCCTGCTGAGCCTCATTAGAATGAATTGTATTGTAATAAGCTTGTATTAACCTCTAGGTTGCGGGGTATAGGGGATATCCCCTAAGACTTTGGTAGCGATAGTACTCTCTGCCTGTTAAGCTACTTCTGAGTAAAATGAATGGCTGCATGTCGCCGCGGCTCTCTAGGAAAATCTTCGCACATGCCAGACAGAGAGCTATATTGTTTACGCGTACAACGCCGGAGCTTGTTATACATATTACGGGATAGTCCCTGCGGCTTGGACTCACGGGATGAGGCTCAGTCATGCTTAGGACCAATGTTAGCATGAAAGTATTATTCCGAGAACCTAATCACAGGTTTTTGGTAATCTACACTGCTTCTAGGAATTCCTGGACCGTCGTAACACTTCCCTTAAGGCATGATACCTGCGCCAGGTGACTGGTTCCCGAATTGGTACCTATTGCATCGTCATAAGGACCCATGGCCTCTGAGTAGTCTGGTGCAACGCGCACTCCCAGAGACCGGCCGGAGGATGGAAAGTTTAGGTCGCTATACTCCGAATGCTCTACCCGCGCCGTGAATGCGGGCTATCCCATTCGCGGCACCTGCAGGAACTC\n",
            "851\n",
            "ID: Rosalind_9898\n",
            "Name: Rosalind_9898\n",
            "Description: Rosalind_9898\n",
            "Number of features: 0\n",
            "Seq('CGTCCGAATAACCAGACCCTGCAGTATACCGGCTTCTGGGTCTATGCTATCCAA...CTC')\n",
            "Rosalind_6405\n",
            "TATTTCAAACTATATATACTACGAAATGCAGCACGAAGTAAAGTTCATACAGCATAATTTATTGGGATCTGCAAGGTTTAAGCACGTGGAAGTCCCCAAGTCACCCAATGGCTAACTACTCCCGCATAGACATAAGATCGGTGAACAGGTCTGGCCCCCCGCAAACACTGTTCCGTGTCCGTCTGGTGTTAGTCGACAGGTGTATCGCCGTAACATCCGCATGACAATATAATGGGAAGGTTCGATTGGCGATACTCCCCATAGGGTCCGGTGTCAGGTACCTGCTTTCGAGGTAAGTTCTCGAACATAGCGCGGGACCCCCACCGCCTGGCTGCTAAAACATCGCGCACGGGAACCAAAGCCGTACGGCTACAATGCAGAGTAAGCAGACGACTACCAATGTGGGGTGGGTAATTCTTCAGATGTATTACGGATCGATCTCGTAGCATACACAGGAAAGGGAAGAGCGGGGCGCTGTTCATCGTTATAACTCTTGCCGGCTGGTGGAATACCTGGCAATACGAGCTCTCATACGACTTAAGAGTAGGCTTTACCGCACGCGGGTTGGGGAGCAGGCGTCTGCGACAGACGACCGGTTAAGAGATACATGTCTTAGATAGGTCCAGTTGGCTTCCGCCTCAGAGACTATGGCTCACTGGCCGGTATTATATATTTCAACGTATGTGGGATCCGCGTAGGAAGCGGCCCCTACCTGTTGGAACTAGTTAGCGCAAGCTACACACTCGCATCCTCGTGGTCTGTCTCGGCTGTACCGGGGGTAGTCGACCCATAAGTTCTCCCGCGAATAGGGCGAAGCTGGAGCTACTACGAATTTCGAGTTCTATATATTCTGTGGTAGAACCCAAGTTTGCGAAACAATAGGCATAACTCGCTTAAAAACGAGGATAATTGATCCGCGTTATGAGCCTTTTATACGGCA\n",
            "940\n",
            "ID: Rosalind_6405\n",
            "Name: Rosalind_6405\n",
            "Description: Rosalind_6405\n",
            "Number of features: 0\n",
            "Seq('TATTTCAAACTATATATACTACGAAATGCAGCACGAAGTAAAGTTCATACAGCA...GCA')\n"
          ]
        }
      ]
    },
    {
      "cell_type": "markdown",
      "source": [
        "#<font color=blue>**P23.**</font> SeqUtils.gc_fraction( ) – a function to compute GC content"
      ],
      "metadata": {
        "id": "SAjUYBpe3pwi"
      }
    },
    {
      "cell_type": "markdown",
      "source": [
        "####**TASK P23.1** Modify the script from TASK P22.1 so that it prints the GC content for each sequence in the file"
      ],
      "metadata": {
        "id": "kEjUu8HfHniC"
      }
    },
    {
      "cell_type": "code",
      "source": [
        "# Task P23.1: Print GC content for each sequence in a FASTA file\n",
        "\n",
        "def parse_fasta(text):\n",
        "    records = {}\n",
        "    label = None\n",
        "    seq_lines = []\n",
        "    for line in text.strip().splitlines():\n",
        "        if line.startswith('>'):\n",
        "            if label is not None:\n",
        "                records[label] = ''.join(seq_lines)\n",
        "            label = line[1:].strip()\n",
        "            seq_lines = []\n",
        "        else:\n",
        "            seq_lines.append(line.strip())\n",
        "    if label is not None:\n",
        "        records[label] = ''.join(seq_lines)\n",
        "    return records\n",
        "\n",
        "def gc_content(seq):\n",
        "    gc = sum(1 for ch in seq if ch in \"GC\")\n",
        "    return 100.0 * gc / len(seq) if seq else 0.0\n",
        "\n",
        "# Read the FASTA dataset\n",
        "with open(\"rosalind_gc_1157_1_dataset.txt\", \"r\") as f:\n",
        "    fasta_text = f.read()\n",
        "\n",
        "records = parse_fasta(fasta_text)\n",
        "\n",
        "# Print GC content for each sequence\n",
        "for label, seq in records.items():\n",
        "    print(label, f\"{gc_content(seq):.3f}\")\n"
      ],
      "metadata": {
        "colab": {
          "base_uri": "https://localhost:8080/"
        },
        "id": "NwCNU-tNdM2g",
        "outputId": "1d2eb6e1-cddb-4812-b556-ff0c5497ed42"
      },
      "execution_count": 112,
      "outputs": [
        {
          "output_type": "stream",
          "name": "stdout",
          "text": [
            "Rosalind_1028 48.754\n",
            "Rosalind_8032 47.957\n",
            "Rosalind_5068 50.420\n",
            "Rosalind_0846 48.900\n",
            "Rosalind_6078 52.593\n",
            "Rosalind_2015 50.500\n",
            "Rosalind_3459 52.101\n",
            "Rosalind_8394 47.447\n",
            "Rosalind_9898 49.824\n",
            "Rosalind_6405 50.213\n"
          ]
        }
      ]
    },
    {
      "cell_type": "markdown",
      "source": [
        "####**TASK P23.2** <font color=orange> **Complete Rosalind #9  Computing GC Content**</font>"
      ],
      "metadata": {
        "id": "nJeXcQR7HwOf"
      }
    },
    {
      "cell_type": "code",
      "source": [
        "# Rosalind #9 Computing GC Content\n",
        "def parse_fasta(text):\n",
        "    records = {}\n",
        "    label = None\n",
        "    seq_lines = []\n",
        "    for line in text.strip().splitlines():\n",
        "        if line.startswith('>'):\n",
        "            if label is not None:\n",
        "                records[label] = ''.join(seq_lines)\n",
        "            label = line[1:].strip()\n",
        "            seq_lines = []\n",
        "        else:\n",
        "            seq_lines.append(line.strip())\n",
        "    if label is not None:\n",
        "        records[label] = ''.join(seq_lines)\n",
        "    return records\n",
        "\n",
        "with open(\"/content/rosalind_gc_1157_1_dataset.txt\",\"r\") as f:\n",
        "    fasta_text = f.read()\n",
        "\n",
        "records = parse_fasta(fasta_text)\n",
        "\n",
        "def gc_content(seq):\n",
        "    gc = sum(1 for ch in seq if ch in \"GC\")\n",
        "    return 100.0 * gc / len(seq) if seq else 0.0\n",
        "\n",
        "gc_scores = {label: gc_content(seq) for label, seq in records.items()}\n",
        "best_id, best_gc = max(gc_scores.items(), key=lambda kv: kv[1])\n",
        "\n",
        "best_id, best_gc\n"
      ],
      "metadata": {
        "colab": {
          "base_uri": "https://localhost:8080/"
        },
        "id": "a1DBna1vdVOV",
        "outputId": "3770b41d-0856-4221-84b3-2bf7ab31436c"
      },
      "execution_count": 114,
      "outputs": [
        {
          "output_type": "execute_result",
          "data": {
            "text/plain": [
              "('Rosalind_6078', 52.592592592592595)"
            ]
          },
          "metadata": {},
          "execution_count": 114
        }
      ]
    },
    {
      "cell_type": "markdown",
      "source": [
        "####**<font color=crimson>TASK 23.3 Commit to GitHub**</font>"
      ],
      "metadata": {
        "id": "gavUUL39INzP"
      }
    }
  ]
}