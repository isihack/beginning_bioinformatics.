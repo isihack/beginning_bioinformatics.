{
  "nbformat": 4,
  "nbformat_minor": 0,
  "metadata": {
    "colab": {
      "provenance": []
    },
    "kernelspec": {
      "name": "python3",
      "display_name": "Python 3"
    },
    "language_info": {
      "name": "python"
    }
  },
  "cells": [
    {
      "cell_type": "markdown",
      "source": [
        "#<font color=blue>**P19.**</font> ```count()``` – counting things made easy"
      ],
      "metadata": {
        "id": "28ygQlYJnZoA"
      }
    },
    {
      "cell_type": "markdown",
      "source": [
        "####**TASK P19.1** <font color= orange>**Complete Rosalind Problem #6  Counting DNA Nucleotides**</font>"
      ],
      "metadata": {
        "id": "CZ9tBWDmw4D-"
      }
    },
    {
      "cell_type": "code",
      "source": [
        "#  Rosalind Problem #6\n",
        "with open(\"rosalind_dna_1157_4_dataset.txt\", \"r\") as f:\n",
        "    dna = f.read().strip()\n",
        "\n",
        "# Count occurrences of A, C, G, T\n",
        "a_count = dna.count(\"A\")\n",
        "c_count = dna.count(\"C\")\n",
        "g_count = dna.count(\"G\")\n",
        "t_count = dna.count(\"T\")\n",
        "\n",
        "result = f\"{a_count} {c_count} {g_count} {t_count}\"\n",
        "result\n"
      ],
      "metadata": {
        "id": "GlwS14zGxBIC",
        "colab": {
          "base_uri": "https://localhost:8080/",
          "height": 35
        },
        "outputId": "e878d409-6c5c-44aa-8940-0d2c6d56f300"
      },
      "execution_count": null,
      "outputs": [
        {
          "output_type": "execute_result",
          "data": {
            "text/plain": [
              "'221 227 253 256'"
            ],
            "application/vnd.google.colaboratory.intrinsic+json": {
              "type": "string"
            }
          },
          "metadata": {},
          "execution_count": 101
        }
      ]
    },
    {
      "cell_type": "markdown",
      "source": [
        "####**TASK P19.2** Modify your code for the Rosalind #5 Dictionary problem so that it uses count( ) to count the words."
      ],
      "metadata": {
        "id": "rj-OWB6Jym5y"
      }
    },
    {
      "cell_type": "code",
      "source": [
        "#  Count word occurrences using count()\n",
        "\n",
        "with open(\"rosalind_ini6_1157_1_dataset.txt\", \"r\") as f:\n",
        "    text = f.read().strip()\n",
        "\n",
        "words = text.split()\n",
        "\n",
        "# Get unique words\n",
        "unique_words = set(words)\n",
        "\n",
        "# Use count() for each unique word\n",
        "for word in unique_words:\n",
        "    print(word, words.count(word))\n"
      ],
      "metadata": {
        "id": "9H_S6jLnzfxR",
        "colab": {
          "base_uri": "https://localhost:8080/"
        },
        "outputId": "a0cd37be-eee2-46a2-b1d2-a2aa531c74a1"
      },
      "execution_count": null,
      "outputs": [
        {
          "output_type": "stream",
          "name": "stdout",
          "text": [
            "yeah 2\n",
            "wisdom 7\n",
            "Let 6\n",
            "music 1\n",
            "Mother 2\n",
            "until 1\n",
            "standing 1\n",
            "be 41\n",
            "my 1\n",
            "right 1\n",
            "comes 2\n",
            "is 4\n",
            "there 2\n",
            "living 1\n",
            "tomorrow 1\n",
            "answer 4\n",
            "Shine 1\n",
            "in 4\n",
            "may 1\n",
            "a 2\n",
            "hearted 1\n",
            "world 1\n",
            "front 1\n",
            "shines 1\n",
            "cloudy 1\n",
            "me 4\n",
            "There 4\n",
            "it 36\n",
            "though 1\n",
            "an 4\n",
            "darkness 1\n",
            "agree 1\n",
            "wake 1\n",
            "myself 1\n",
            "when 2\n",
            "parted 1\n",
            "Mary 2\n",
            "For 1\n",
            "Speaking 3\n",
            "she 1\n",
            "the 4\n",
            "they 2\n",
            "still 2\n",
            "light 1\n",
            "times 1\n",
            "trouble 1\n",
            "on 1\n",
            "words 7\n",
            "night 1\n",
            "Whisper 4\n",
            "will 5\n",
            "see 1\n",
            "sound 1\n",
            "find 1\n",
            "I 2\n",
            "And 3\n",
            "people 1\n",
            "broken 1\n",
            "to 3\n",
            "hour 1\n",
            "chance 1\n",
            "up 1\n",
            "that 2\n",
            "When 1\n",
            "of 11\n",
            "let 30\n"
          ]
        }
      ]
    },
    {
      "cell_type": "markdown",
      "source": [
        "####**<font color=crimson>TASK 19.3 Commit to GitHub**</font>\n"
      ],
      "metadata": {
        "id": "RzMon_wAzg7D"
      }
    },
    {
      "cell_type": "markdown",
      "source": [
        "#<font color=blue>**P20.**</font> Installing biopython"
      ],
      "metadata": {
        "id": "-IB0c2gG0Z1O"
      }
    },
    {
      "cell_type": "code",
      "source": [
        "!pip install biopython"
      ],
      "metadata": {
        "colab": {
          "base_uri": "https://localhost:8080/"
        },
        "id": "pinPQdEn0mJM",
        "outputId": "f8f6bd9e-bd16-4802-b736-2ec3ee9c9d91"
      },
      "execution_count": null,
      "outputs": [
        {
          "output_type": "stream",
          "name": "stdout",
          "text": [
            "Collecting biopython\n",
            "  Downloading biopython-1.85-cp312-cp312-manylinux_2_17_x86_64.manylinux2014_x86_64.whl.metadata (13 kB)\n",
            "Requirement already satisfied: numpy in /usr/local/lib/python3.12/dist-packages (from biopython) (2.0.2)\n",
            "Downloading biopython-1.85-cp312-cp312-manylinux_2_17_x86_64.manylinux2014_x86_64.whl (3.3 MB)\n",
            "\u001b[2K   \u001b[90m━━━━━━━━━━━━━━━━━━━━━━━━━━━━━━━━━━━━━━━━\u001b[0m \u001b[32m3.3/3.3 MB\u001b[0m \u001b[31m41.1 MB/s\u001b[0m eta \u001b[36m0:00:00\u001b[0m\n",
            "\u001b[?25hInstalling collected packages: biopython\n",
            "Successfully installed biopython-1.85\n"
          ]
        }
      ]
    },
    {
      "cell_type": "code",
      "metadata": {
        "colab": {
          "base_uri": "https://localhost:8080/"
        },
        "id": "5ccd6f0b",
        "outputId": "937f703c-748c-4dcd-9a05-bc9eb8f1ec40"
      },
      "source": [
        "try:\n",
        "  from Bio.Seq import Seq\n",
        "  print(\"Biopython is installed correctly.\")\n",
        "except ImportError:\n",
        "  print(\"Biopython is not installed or there was an import error.\")"
      ],
      "execution_count": null,
      "outputs": [
        {
          "output_type": "stream",
          "name": "stdout",
          "text": [
            "Biopython is installed correctly.\n"
          ]
        }
      ]
    },
    {
      "cell_type": "markdown",
      "source": [
        "#<font color=blue>**P21.**</font> Seq( ) – a function to define sequence objects"
      ],
      "metadata": {
        "id": "IGX-ThdQ3RuA"
      }
    },
    {
      "cell_type": "code",
      "source": [
        "from Bio.Seq import Seq\n",
        "\n",
        "my_sequence = Seq(\"GATGGAACTTGACTACGTAAATT\")"
      ],
      "metadata": {
        "id": "ltZBr8mE4OhM"
      },
      "execution_count": null,
      "outputs": []
    },
    {
      "cell_type": "markdown",
      "source": [
        "####**TASK BP21.2** <font color=orange> **Complete Rosalind #7 Transcribing DNA into RNA**</font>"
      ],
      "metadata": {
        "id": "UXCuEFxg6Jxx"
      }
    },
    {
      "cell_type": "code",
      "source": [
        "# Rosalind #7 Transcribing DNA into RNA\n",
        "with open(\"rosalind_rna_1157_2_dataset.txt\", \"r\") as f:\n",
        "    dna = f.read().strip()\n",
        "\n",
        "# Transcribe DNA to RNA by replacing 'T' with 'U'\n",
        "rna = dna.replace(\"T\", \"U\")\n",
        "rna[:500]\n"
      ],
      "metadata": {
        "id": "UXt6gWLM6qde",
        "colab": {
          "base_uri": "https://localhost:8080/",
          "height": 104
        },
        "outputId": "4ae2d134-c678-442b-f7dd-3c398aa65737"
      },
      "execution_count": null,
      "outputs": [
        {
          "output_type": "execute_result",
          "data": {
            "text/plain": [
              "'CGCCGACUCGUUGUAAUAUGGGUAAUCAGGUCGGUACUCGCAGUGAAUUGCGGCCAUUGUACUUAGAGCUAGGUCCAGUCAUGUCGUGAUUUCUAGUAUCCUCCACGCGUUUCAAGCCUUACUCAAACGAUUGUGCUUGUUUGCAUCGAGACGACUACAGAACGGGCCAAUUUUCUUUACGUGUUGGGUUUAUGCUCUUAUUACCGCCUGUGAACACCAAUGCACCCCGGUUUGAAGGCGUCACGAUGCAAACUGUUCCCGUCGCCUGGGCAGGUUAAUUUUCUCUGCGGGUCCCCAGGAUUCUCGACCUAUAUCCAUCAACUGGCGCCCGCUUACGCCCCACUUCACUAUCUACAGCUCAGCACAGAGCUGAAACAGCUUAUAAAGUACAUUGCUGGUAAUCAACGUUAGCUGUUCCGAACCUCCCUUGCAAGUGGCGUCGUAAAAGUCAGCGUCCAUCGACCCGAGUGAUUGGGGGCAGCUCGGACGUAAAAUACUGA'"
            ],
            "application/vnd.google.colaboratory.intrinsic+json": {
              "type": "string"
            }
          },
          "metadata": {},
          "execution_count": 105
        }
      ]
    },
    {
      "cell_type": "markdown",
      "source": [
        "####**TASK BP21.2** <font color=orange> **Complete Rosalind #8  Translating RNA into Protein**</font>"
      ],
      "metadata": {
        "id": "9P4_MaXp6O3n"
      }
    },
    {
      "cell_type": "code",
      "source": [
        "# Rosalind #8 Translating RNA into Protein\n",
        "rna_codon_table = {\n",
        "    'UUU':'F', 'CUU':'L', 'AUU':'I', 'GUU':'V',\n",
        "    'UUC':'F', 'CUC':'L', 'AUC':'I', 'GUC':'V',\n",
        "    'UUA':'L', 'CUA':'L', 'AUA':'I', 'GUA':'V',\n",
        "    'UUG':'L', 'CUG':'L', 'AUG':'M', 'GUG':'V',\n",
        "    'UCU':'S', 'CCU':'P', 'ACU':'T', 'GCU':'A',\n",
        "    'UCC':'S', 'CCC':'P', 'ACC':'T', 'GCC':'A',\n",
        "    'UCA':'S', 'CCA':'P', 'ACA':'T', 'GCA':'A',\n",
        "    'UCG':'S', 'CCG':'P', 'ACG':'T', 'GCG':'A',\n",
        "    'UAU':'Y', 'CAU':'H', 'AAU':'N', 'GAU':'D',\n",
        "    'UAC':'Y', 'CAC':'H', 'AAC':'N', 'GAC':'D',\n",
        "    'UAA':'Stop', 'CAA':'Q', 'AAA':'K', 'GAA':'E',\n",
        "    'UAG':'Stop', 'CAG':'Q', 'AAG':'K', 'GAG':'E',\n",
        "    'UGU':'C', 'CGU':'R', 'AGU':'S', 'GGU':'G',\n",
        "    'UGC':'C', 'CGC':'R', 'AGC':'S', 'GGC':'G',\n",
        "    'UGA':'Stop', 'CGA':'R', 'AGA':'R', 'GGA':'G',\n",
        "    'UGG':'W', 'CGG':'R', 'AGG':'R', 'GGG':'G'\n",
        "}\n",
        "\n",
        "# Read the RNA string dataset\n",
        "with open(\"rosalind_prot_1157_1_dataset.txt\", \"r\") as f:\n",
        "    rna = f.read().strip()\n",
        "\n",
        "# Translate RNA string into protein\n",
        "protein = []\n",
        "for i in range(0, len(rna), 3):\n",
        "    codon = rna[i:i+3]\n",
        "    if rna_codon_table.get(codon) == 'Stop':\n",
        "        break\n",
        "    protein.append(rna_codon_table.get(codon, ''))\n",
        "\n",
        "protein_string = \"\".join(protein)\n",
        "protein_string[:500]\n"
      ],
      "metadata": {
        "id": "5Rzzfzij6q2P",
        "colab": {
          "base_uri": "https://localhost:8080/",
          "height": 104
        },
        "outputId": "e6122ec0-745f-4241-cfea-515ad22ec475"
      },
      "execution_count": null,
      "outputs": [
        {
          "output_type": "execute_result",
          "data": {
            "text/plain": [
              "'MQHESITNSNCPASYHWLQPPNGYIFVYTHSPLRRTEQLTQPYSATGCVIGPPKLTHSSIRLCCPTVRRHIGKLSSNRLRHHAGRASCATPSLQITKTYNWRPASLGLPRRYVSPLYVSPCRRGAQRICPISTVILDPAKGHDYKIRDCLTMLLAKRTPKLDGRYSKTILSVEAPPGLASGLPVPRVEKFQVRRRNSPQLPKLTMVRLVMNSSALDKGYVLIPLGMLQPEDKPCVDSNTGRYAGSRKVIVLPQSIQKKSSYSFMHITLPSGRSDMIASRLECSTRAGRVSVTNRPEHQVVRHTTSDEWFTSRGVQLRTHRAAKVSPTGPSLGRLLQLGKLRIPTSSSEERLHSLLHMQSGVPRTVPPDKKRVERKNSLGTPPEATSWNFRLFETPIVETPLSTWAISCSRCARKSHHNVLSTIHLYRWLTRNRRTLGDAWCTLTEGLPFPSMLFRPRVPNKFRRVAHGARRTVACSRVRFNGSYLEVIGLSVVFTTILSL'"
            ],
            "application/vnd.google.colaboratory.intrinsic+json": {
              "type": "string"
            }
          },
          "metadata": {},
          "execution_count": 107
        }
      ]
    }
  ]
}